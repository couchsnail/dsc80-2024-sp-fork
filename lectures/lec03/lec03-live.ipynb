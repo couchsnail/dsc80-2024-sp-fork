{
 "cells": [
  {
   "cell_type": "code",
   "execution_count": 1,
   "id": "32d6d560",
   "metadata": {
    "slideshow": {
     "slide_type": "skip"
    }
   },
   "outputs": [],
   "source": [
    "from dsc80_utils import *"
   ]
  },
  {
   "cell_type": "code",
   "execution_count": 2,
   "id": "8c8a44b8",
   "metadata": {
    "slideshow": {
     "slide_type": "skip"
    }
   },
   "outputs": [
    {
     "data": {
      "text/html": [
       "\n",
       "<script type=\"text/javascript\" src=\"https://pandastutor.com/build/wsembed.bundle.2022-07-07-release.js\"></script>\n",
       "<script>\n",
       "console.log(\"initializing pandas_tutor js\")\n",
       "\n",
       "function drawWsv(viz_id, spec, options) {\n",
       "  if (typeof createWsvFromPandasTrace === 'undefined') {\n",
       "    setTimeout(() => drawWsv(viz_id, spec, options), 2000) // retry in 2 seconds\n",
       "    return\n",
       "  }\n",
       "  createWsvFromPandasTrace(viz_id, spec, options)\n",
       "}\n",
       "</script>\n"
      ],
      "text/plain": [
       "<IPython.core.display.HTML object>"
      ]
     },
     "metadata": {},
     "output_type": "display_data"
    }
   ],
   "source": [
    "# Pandas Tutor setup\n",
    "%reload_ext pandas_tutor\n",
    "%set_pandas_tutor_options {\"maxDisplayCols\": 8, \"nohover\": True, \"projectorMode\": True}"
   ]
  },
  {
   "cell_type": "markdown",
   "id": "ce9e66d9",
   "metadata": {
    "slideshow": {
     "slide_type": "slide"
    }
   },
   "source": [
    "# Lecture 3 – Aggregating\n",
    "\n",
    "## DSC 80, Winter 2024"
   ]
  },
  {
   "cell_type": "markdown",
   "id": "dbab6fbf",
   "metadata": {
    "slideshow": {
     "slide_type": "slide"
    }
   },
   "source": [
    "### Announcements 📣\n",
    "\n",
    "- Lab 1 is due **tomorrow at 11:59pm.**\n",
    "    - The [**Welcome Survey**](https://forms.gle/zSYRnDK7wNUWehPh8) is part of your Lab 1; we won't count your Lab 1 as submitted unless your Welcome Survey is also submitted.\n",
    "- Project 1 is released.\n",
    "    - The checkpoint (Questions 1-7) is due on **Friday, April 12th**.\n",
    "    - The full project is due on **Friday, April 19th**.\n",
    "- Lab 2 will be released by tomorrow."
   ]
  },
  {
   "cell_type": "markdown",
   "id": "3e7a92cd",
   "metadata": {
    "slideshow": {
     "slide_type": "slide"
    }
   },
   "source": [
    "### Agenda\n",
    "\n",
    "- Adding and modifying columns\n",
    "- Data granularity and the `groupby` method.\n",
    "- `DataFrameGroupBy` objects and aggregation.\n",
    "- Other `DataFrameGroupBy` methods.\n",
    "- Pivot tables using the `pivot_table` method.\n",
    "\n",
    "You will need to code **a lot** today – make sure to pull the [course repository](https://github.com/dsc-courses/dsc80-2024-wi)\n",
    "\n",
    "I will code a lot too, and will post my filled-in slides after class."
   ]
  },
  {
   "cell_type": "markdown",
   "id": "642874dc",
   "metadata": {
    "slideshow": {
     "slide_type": "slide"
    }
   },
   "source": [
    "<div class=\"alert alert-warning\">\n",
    "    <h3>Question 🤔 (Answer at <a href=\"https://q.dsc80.com\">q.dsc80.com)</h3>\n",
    "</div>\n",
    "    \n",
    "Remember, you can always ask questions at [**q.dsc80.com**](https://q.dsc80.com)!\n",
    "    \n",
    "A question for you now: Have you set up your development environment? Have you started on Lab 1?\n",
    "    \n",
    "- A. Yes, I have set up my development environment. I've started Lab 1.\n",
    "- B. Yes, I have set up my development environment. I haven't started Lab 1.\n",
    "- C. No, I have not set up my development environment."
   ]
  },
  {
   "cell_type": "markdown",
   "id": "2eaeba51-a0c3-4ed7-b762-2d1bcae3162a",
   "metadata": {
    "slideshow": {
     "slide_type": "slide"
    },
    "tags": []
   },
   "source": [
    "## Adding and modifying columns"
   ]
  },
  {
   "cell_type": "markdown",
   "id": "48b0b604-3923-4d8d-a2ee-72c756f61fda",
   "metadata": {
    "slideshow": {
     "slide_type": "slide"
    },
    "tags": []
   },
   "source": [
    "### Adding and modifying columns, using a copy\n",
    "\n",
    "- To add a new column to a DataFrame, use the `assign` method.\n",
    "    - To change the values in a column, add a new column with the same name as the existing column.\n",
    "- Like most `pandas` methods, `assign` returns a new DataFrame.\n",
    "    - **Pro** ✅: This doesn't inadvertently change any existing variables.\n",
    "    - **Con** ❌: It is not very space efficient, as it creates a new copy each time it is called."
   ]
  },
  {
   "cell_type": "code",
   "execution_count": null,
   "id": "6280e1e1",
   "metadata": {},
   "outputs": [],
   "source": [
    "dogs = pd.read_csv(Path('data') / 'dogs43.csv', index_col='breed')"
   ]
  },
  {
   "cell_type": "code",
   "execution_count": null,
   "id": "c965145f-ae2a-4e19-a1c5-ca828c479883",
   "metadata": {
    "slideshow": {
     "slide_type": ""
    },
    "tags": []
   },
   "outputs": [],
   "source": [
    "dogs.assign(cost_per_year=dogs['lifetime_cost'] / dogs['longevity'])"
   ]
  },
  {
   "cell_type": "code",
   "execution_count": null,
   "id": "b6967445",
   "metadata": {},
   "outputs": [],
   "source": [
    "dogs"
   ]
  },
  {
   "cell_type": "markdown",
   "id": "5e4fc26b",
   "metadata": {
    "slideshow": {
     "slide_type": "slide"
    }
   },
   "source": [
    "### 💡 Pro-Tip: Method chaining\n",
    "\n",
    "Chain methods together instead of writing long, hard-to-read lines."
   ]
  },
  {
   "cell_type": "code",
   "execution_count": null,
   "id": "9e83ee9b",
   "metadata": {},
   "outputs": [],
   "source": [
    "# Finds the rows corresponding to the five cheapest to own breeds on a per-year basis.\n",
    "dogs.assign(cost_per_year=dogs['lifetime_cost'] / dogs['longevity']).sort_values('cost_per_year').iloc[:5]"
   ]
  },
  {
   "cell_type": "markdown",
   "id": "4d26fe50",
   "metadata": {
    "slideshow": {
     "slide_type": "slide"
    }
   },
   "source": [
    "### 💡 Pro-Tip: `assign` for column names with special characters\n",
    "\n",
    "You can also use `assign` when the desired column name has spaces (and other special characters) by unpacking a dictionary:"
   ]
  },
  {
   "cell_type": "code",
   "execution_count": null,
   "id": "b992959a",
   "metadata": {},
   "outputs": [],
   "source": [
    "dogs.assign(**{'cost per year 💵': dogs['lifetime_cost'] / dogs['longevity']})"
   ]
  },
  {
   "cell_type": "markdown",
   "id": "cb6fa478",
   "metadata": {
    "slideshow": {
     "slide_type": "slide"
    }
   },
   "source": [
    "### Adding and modifying columns, in-place\n",
    "\n",
    "* You can assign a new column to a DataFrame **in-place** using `[]`.\n",
    "    - This works like dictionary assignment.\n",
    "    - This **modifies** the underlying DataFrame, unlike `assign`, which returns a new DataFrame.\n",
    "* This is the more \"common\" way of adding/modifying columns. \n",
    "    - ⚠️ Warning: Exercise caution when using this approach, since this approach changes the values of existing variables."
   ]
  },
  {
   "cell_type": "code",
   "execution_count": null,
   "id": "f598df4c",
   "metadata": {},
   "outputs": [],
   "source": [
    "# By default, .copy() returns a deep copy of the object it is called on,\n",
    "# meaning that if you change the copy the original remains unmodified.\n",
    "dogs_copy = dogs.copy()\n",
    "dogs_copy.head(2)"
   ]
  },
  {
   "cell_type": "code",
   "execution_count": null,
   "id": "ba1f0726",
   "metadata": {},
   "outputs": [],
   "source": [
    "dogs_copy['cost_per_year'] = dogs_copy['lifetime_cost'] / dogs_copy['longevity']\n",
    "dogs_copy"
   ]
  },
  {
   "cell_type": "markdown",
   "id": "2b5d2ac1",
   "metadata": {
    "slideshow": {
     "slide_type": "fragment"
    }
   },
   "source": [
    "Note that we never reassigned `dogs_copy` in the cell above – that is, we never wrote `dogs_copy = ...` – though it was still modified."
   ]
  },
  {
   "cell_type": "markdown",
   "id": "76a86690",
   "metadata": {
    "slideshow": {
     "slide_type": "slide"
    }
   },
   "source": [
    "### Mutability\n",
    "\n",
    "DataFrames, like lists, arrays, and dictionaries, are **mutable**. As you learned in DSC 20, this means that they can be modified after being created. (For instance, the list `.append` method mutates in-place.)\n",
    "\n",
    "Not only does this explain the behavior on the previous slide, but it also explains the following:"
   ]
  },
  {
   "cell_type": "code",
   "execution_count": null,
   "id": "574b4b11",
   "metadata": {},
   "outputs": [],
   "source": [
    "dogs_copy"
   ]
  },
  {
   "cell_type": "code",
   "execution_count": null,
   "id": "fe506f4a",
   "metadata": {},
   "outputs": [],
   "source": [
    "def cost_in_thousands():\n",
    "    dogs_copy['lifetime_cost'] = dogs_copy['lifetime_cost'] / 1000"
   ]
  },
  {
   "cell_type": "code",
   "execution_count": null,
   "id": "eb1be3f8",
   "metadata": {},
   "outputs": [],
   "source": [
    "# What happens when we run this twice?\n",
    "cost_in_thousands()"
   ]
  },
  {
   "cell_type": "code",
   "execution_count": null,
   "id": "b3b53db2",
   "metadata": {},
   "outputs": [],
   "source": [
    "dogs_copy"
   ]
  },
  {
   "cell_type": "markdown",
   "id": "b6cbd332",
   "metadata": {
    "slideshow": {
     "slide_type": "slide"
    }
   },
   "source": [
    "### ⚠️ Avoid mutation when possible\n",
    "\n",
    "Note that `dogs_copy` was modified, even though we didn't reassign it! These unintended consequences can **influence the behavior of test cases on labs and projects**, among other things! \n",
    "\n",
    "To avoid this, it's a good idea to avoid mutation when possible. If you must use mutation, include `df = df.copy()` as the first line in functions that take DataFrames as input.\n",
    "\n",
    "Also, some methods let you use the `inplace=True` argument to mutate the original. **Don't use this argument, since future `pandas` releases plan to remove it.**"
   ]
  },
  {
   "cell_type": "markdown",
   "id": "5549d72e",
   "metadata": {
    "slideshow": {
     "slide_type": "slide"
    }
   },
   "source": [
    "## `pandas` and `numpy`"
   ]
  },
  {
   "cell_type": "markdown",
   "id": "099f532e",
   "metadata": {
    "slideshow": {
     "slide_type": "slide"
    }
   },
   "source": [
    "<center><img src='imgs/python-stack.png' width=60%></center>"
   ]
  },
  {
   "cell_type": "markdown",
   "id": "4d5900bf",
   "metadata": {
    "slideshow": {
     "slide_type": "slide"
    }
   },
   "source": [
    "### `pandas` is built upon `numpy`!\n",
    "\n",
    "- A Series in `pandas` is a `numpy` array with an index.\n",
    "- A DataFrame is like a dictionary of columns, each of which is a `numpy` array.\n",
    "- Many operations in `pandas` are fast because they use `numpy`'s implementations, which are written in fast languages like C.\n",
    "- If you need access the array underlying a DataFrame or Series, use the `to_numpy` method."
   ]
  },
  {
   "cell_type": "code",
   "execution_count": null,
   "id": "da955778",
   "metadata": {},
   "outputs": [],
   "source": [
    "dogs['lifetime_cost']"
   ]
  },
  {
   "cell_type": "code",
   "execution_count": null,
   "id": "91195593",
   "metadata": {},
   "outputs": [],
   "source": [
    "dogs['lifetime_cost'].to_numpy()"
   ]
  },
  {
   "cell_type": "markdown",
   "id": "fffa5177",
   "metadata": {
    "slideshow": {
     "slide_type": "slide"
    }
   },
   "source": [
    "### Axes\n",
    "\n",
    "- The rows and columns of a DataFrame are both stored as Series.\n",
    "- The **axis** specifies the direction of a **slice** of a DataFrame.\n",
    "\n",
    "<center><img src='imgs/axis.png' width=30%></center>\n",
    "\n",
    "- Axis 0 refers to the index (rows).\n",
    "- Axis 1 refers to the columns.\n",
    "- **These are the same axes definitions that 2D `numpy` arrays have!**"
   ]
  },
  {
   "cell_type": "markdown",
   "id": "1e91a09c",
   "metadata": {
    "slideshow": {
     "slide_type": "slide"
    }
   },
   "source": [
    "### DataFrame methods with `axis`\n",
    "\n",
    "- Many Series methods work on DataFrames.\n",
    "- In such cases, the DataFrame method usually applies the Series method to every row or column.\n",
    "- Many of these methods accept an `axis` argument; the default is usually `axis=0`."
   ]
  },
  {
   "cell_type": "code",
   "execution_count": null,
   "id": "0e674deb",
   "metadata": {},
   "outputs": [],
   "source": [
    "dogs"
   ]
  },
  {
   "cell_type": "code",
   "execution_count": null,
   "id": "89854475",
   "metadata": {},
   "outputs": [],
   "source": [
    "# Max element in each column.\n",
    "dogs.max()"
   ]
  },
  {
   "cell_type": "code",
   "execution_count": null,
   "id": "01f5af45",
   "metadata": {},
   "outputs": [],
   "source": [
    "# Max element in each row – a little nonsensical, since there are different types in each row.\n",
    "dogs.max(axis=1)"
   ]
  },
  {
   "cell_type": "code",
   "execution_count": null,
   "id": "9a6231eb",
   "metadata": {},
   "outputs": [],
   "source": [
    "# The number of unique values in each column.\n",
    "dogs.nunique()"
   ]
  },
  {
   "cell_type": "code",
   "execution_count": null,
   "id": "942d387e",
   "metadata": {},
   "outputs": [],
   "source": [
    "# describe doesn't accept an axis argument; it works on every numeric column in the DataFrame it is called on.\n",
    "dogs.describe()"
   ]
  },
  {
   "cell_type": "markdown",
   "id": "e65a8331",
   "metadata": {
    "slideshow": {
     "slide_type": "slide"
    }
   },
   "source": [
    "## Data granularity and the `groupby` method"
   ]
  },
  {
   "cell_type": "markdown",
   "id": "860cdec9",
   "metadata": {
    "slideshow": {
     "slide_type": "slide"
    }
   },
   "source": [
    "### Example: Palmer Penguins\n",
    "\n",
    "<center><img src=\"imgs/lter_penguins.png\" width=60%>\n",
    "<i><a href=\"https://github.com/allisonhorst/palmerpenguins/blob/main/README.md\">Artwork by @allison_horst</a></i>\n",
    "\n",
    "</center>\n",
    "\n",
    "The dataset we'll work with for the rest of the lecture involves various measurements taken of three species of penguins in Antarctica."
   ]
  },
  {
   "cell_type": "code",
   "execution_count": null,
   "id": "dadda78a",
   "metadata": {
    "slideshow": {
     "slide_type": "slide"
    }
   },
   "outputs": [],
   "source": [
    "IFrame('https://www.youtube-nocookie.com/embed/CCrNAHXUstU?si=-DntSyUNp5Kwitjm&amp;start=11',\n",
    "       width=560, height=315)"
   ]
  },
  {
   "cell_type": "code",
   "execution_count": 4,
   "id": "9961f647",
   "metadata": {
    "slideshow": {
     "slide_type": "slide"
    }
   },
   "outputs": [
    {
     "data": {
      "text/html": [
       "<div>\n",
       "<style scoped>\n",
       "    .dataframe tbody tr th:only-of-type {\n",
       "        vertical-align: middle;\n",
       "    }\n",
       "\n",
       "    .dataframe tbody tr th {\n",
       "        vertical-align: top;\n",
       "    }\n",
       "\n",
       "    .dataframe thead th {\n",
       "        text-align: right;\n",
       "    }\n",
       "</style>\n",
       "<table border=\"1\" class=\"dataframe\">\n",
       "  <thead>\n",
       "    <tr style=\"text-align: right;\">\n",
       "      <th></th>\n",
       "      <th>species</th>\n",
       "      <th>island</th>\n",
       "      <th>bill_length_mm</th>\n",
       "      <th>bill_depth_mm</th>\n",
       "      <th>flipper_length_mm</th>\n",
       "      <th>body_mass_g</th>\n",
       "      <th>sex</th>\n",
       "    </tr>\n",
       "  </thead>\n",
       "  <tbody>\n",
       "    <tr>\n",
       "      <th>0</th>\n",
       "      <td>Adelie</td>\n",
       "      <td>Torgersen</td>\n",
       "      <td>39.1</td>\n",
       "      <td>18.7</td>\n",
       "      <td>181.0</td>\n",
       "      <td>3750.0</td>\n",
       "      <td>Male</td>\n",
       "    </tr>\n",
       "    <tr>\n",
       "      <th>1</th>\n",
       "      <td>Adelie</td>\n",
       "      <td>Torgersen</td>\n",
       "      <td>39.5</td>\n",
       "      <td>17.4</td>\n",
       "      <td>186.0</td>\n",
       "      <td>3800.0</td>\n",
       "      <td>Female</td>\n",
       "    </tr>\n",
       "    <tr>\n",
       "      <th>2</th>\n",
       "      <td>Adelie</td>\n",
       "      <td>Torgersen</td>\n",
       "      <td>40.3</td>\n",
       "      <td>18.0</td>\n",
       "      <td>195.0</td>\n",
       "      <td>3250.0</td>\n",
       "      <td>Female</td>\n",
       "    </tr>\n",
       "    <tr>\n",
       "      <th>...</th>\n",
       "      <td>...</td>\n",
       "      <td>...</td>\n",
       "      <td>...</td>\n",
       "      <td>...</td>\n",
       "      <td>...</td>\n",
       "      <td>...</td>\n",
       "      <td>...</td>\n",
       "    </tr>\n",
       "    <tr>\n",
       "      <th>341</th>\n",
       "      <td>Gentoo</td>\n",
       "      <td>Biscoe</td>\n",
       "      <td>50.4</td>\n",
       "      <td>15.7</td>\n",
       "      <td>222.0</td>\n",
       "      <td>5750.0</td>\n",
       "      <td>Male</td>\n",
       "    </tr>\n",
       "    <tr>\n",
       "      <th>342</th>\n",
       "      <td>Gentoo</td>\n",
       "      <td>Biscoe</td>\n",
       "      <td>45.2</td>\n",
       "      <td>14.8</td>\n",
       "      <td>212.0</td>\n",
       "      <td>5200.0</td>\n",
       "      <td>Female</td>\n",
       "    </tr>\n",
       "    <tr>\n",
       "      <th>343</th>\n",
       "      <td>Gentoo</td>\n",
       "      <td>Biscoe</td>\n",
       "      <td>49.9</td>\n",
       "      <td>16.1</td>\n",
       "      <td>213.0</td>\n",
       "      <td>5400.0</td>\n",
       "      <td>Male</td>\n",
       "    </tr>\n",
       "  </tbody>\n",
       "</table>\n",
       "<p>333 rows × 7 columns</p>\n",
       "</div>"
      ],
      "text/plain": [
       "    species     island  bill_length_mm  bill_depth_mm  flipper_length_mm  \\\n",
       "0    Adelie  Torgersen            39.1           18.7              181.0   \n",
       "1    Adelie  Torgersen            39.5           17.4              186.0   \n",
       "2    Adelie  Torgersen            40.3           18.0              195.0   \n",
       "..      ...        ...             ...            ...                ...   \n",
       "341  Gentoo     Biscoe            50.4           15.7              222.0   \n",
       "342  Gentoo     Biscoe            45.2           14.8              212.0   \n",
       "343  Gentoo     Biscoe            49.9           16.1              213.0   \n",
       "\n",
       "     body_mass_g     sex  \n",
       "0         3750.0    Male  \n",
       "1         3800.0  Female  \n",
       "2         3250.0  Female  \n",
       "..           ...     ...  \n",
       "341       5750.0    Male  \n",
       "342       5200.0  Female  \n",
       "343       5400.0    Male  \n",
       "\n",
       "[333 rows x 7 columns]"
      ]
     },
     "execution_count": 4,
     "metadata": {},
     "output_type": "execute_result"
    }
   ],
   "source": [
    "import seaborn as sns\n",
    "penguins = sns.load_dataset('penguins').dropna()\n",
    "penguins"
   ]
  },
  {
   "cell_type": "markdown",
   "id": "3791f7b7",
   "metadata": {
    "slideshow": {
     "slide_type": "fragment"
    }
   },
   "source": [
    "Here, each row corresponds to a single penguin, and each column corresponds to a different attribute (or feature) we have for each penguin. Data formatted in this way is called [tidy data](https://r4ds.had.co.nz/tidy-data.html)."
   ]
  },
  {
   "cell_type": "markdown",
   "id": "5c5a9cbf",
   "metadata": {
    "slideshow": {
     "slide_type": "slide"
    }
   },
   "source": [
    "### Granularity"
   ]
  },
  {
   "cell_type": "markdown",
   "id": "31238e88",
   "metadata": {
    "slideshow": {
     "slide_type": "fragment"
    }
   },
   "source": [
    "- Granularity refers to what each observation in a dataset represents.\n",
    "    - Fine: small details.\n",
    "    - Coarse: bigger picture."
   ]
  },
  {
   "cell_type": "markdown",
   "id": "6af071f0",
   "metadata": {
    "slideshow": {
     "slide_type": "fragment"
    }
   },
   "source": [
    "- If you can control how your dataset is created, you should opt for **finer granularity**, i.e. for more detail.\n",
    "    - You can always remove details, but it's difficult to add detail that isn't already there.\n",
    "    - But obtaining fine-grained data can take more time/money."
   ]
  },
  {
   "cell_type": "markdown",
   "id": "540a8603",
   "metadata": {
    "slideshow": {
     "slide_type": "fragment"
    }
   },
   "source": [
    "- Today, we'll focus on how to **remove** details from fine-grained data, in order to help us understand bigger-picture trends in our data."
   ]
  },
  {
   "cell_type": "markdown",
   "id": "f5e419eb",
   "metadata": {
    "slideshow": {
     "slide_type": "slide"
    }
   },
   "source": [
    "### Aggregating\n",
    "\n",
    "**Aggregating** is the act of combining many values into a single value."
   ]
  },
  {
   "cell_type": "markdown",
   "id": "3e8fe6c7",
   "metadata": {
    "slideshow": {
     "slide_type": "fragment"
    }
   },
   "source": [
    "- What is the mean `'body_mass_g'` for all penguins?"
   ]
  },
  {
   "cell_type": "code",
   "execution_count": 5,
   "id": "accb653d",
   "metadata": {},
   "outputs": [
    {
     "data": {
      "text/plain": [
       "4207.057057057057"
      ]
     },
     "execution_count": 5,
     "metadata": {},
     "output_type": "execute_result"
    }
   ],
   "source": [
    "penguins['body_mass_g'].mean()"
   ]
  },
  {
   "cell_type": "markdown",
   "id": "ff0bce29",
   "metadata": {
    "slideshow": {
     "slide_type": "fragment"
    }
   },
   "source": [
    "- What is the mean `'body_mass_g'` **for each species**?"
   ]
  },
  {
   "cell_type": "code",
   "execution_count": null,
   "id": "e6bd5ce7",
   "metadata": {},
   "outputs": [],
   "source": [
    "# ???"
   ]
  },
  {
   "cell_type": "markdown",
   "id": "60a2b631",
   "metadata": {
    "slideshow": {
     "slide_type": "slide"
    }
   },
   "source": [
    "### Naive approach: looping through unique values"
   ]
  },
  {
   "cell_type": "code",
   "execution_count": null,
   "id": "50496266",
   "metadata": {},
   "outputs": [],
   "source": [
    "species_map = pd.Series([], dtype=float)\n",
    "\n",
    "for species in penguins['species'].unique():\n",
    "    species_only = penguins.loc[penguins['species'] == species]\n",
    "    species_map.loc[species] = species_only['body_mass_g'].mean()\n",
    "    \n",
    "species_map"
   ]
  },
  {
   "cell_type": "markdown",
   "id": "19109739",
   "metadata": {
    "slideshow": {
     "slide_type": "fragment"
    }
   },
   "source": [
    "- For each unique `'species'`, we make a pass through the entire dataset.\n",
    "    - The asymptotic runtime of this procedure is $\\Theta(ns)$, where $n$ is the number of rows and $s$ is the number of unique species."
   ]
  },
  {
   "cell_type": "markdown",
   "id": "960159cd",
   "metadata": {
    "slideshow": {
     "slide_type": "fragment"
    }
   },
   "source": [
    "- While there are other loop-based solutions that only involve a single pass over the DataFrame, we'd like to avoid Python loops entirely, as they're slow."
   ]
  },
  {
   "cell_type": "markdown",
   "id": "f5698fac",
   "metadata": {
    "slideshow": {
     "slide_type": "slide"
    }
   },
   "source": [
    "### Grouping\n",
    "\n",
    "A better solution, as we know from DSC 10, is to use the `groupby` method."
   ]
  },
  {
   "cell_type": "code",
   "execution_count": null,
   "id": "c248efba",
   "metadata": {},
   "outputs": [],
   "source": [
    "# Before:\n",
    "penguins['body_mass_g'].mean()"
   ]
  },
  {
   "cell_type": "code",
   "execution_count": null,
   "id": "59a1739d",
   "metadata": {},
   "outputs": [],
   "source": [
    "# After:\n",
    "penguins.groupby('species')['body_mass_g'].mean()"
   ]
  },
  {
   "cell_type": "markdown",
   "id": "ad80eded",
   "metadata": {
    "slideshow": {
     "slide_type": "fragment"
    }
   },
   "source": [
    "Somehow, the `groupby` method computes what we're looking for in just one line. How?"
   ]
  },
  {
   "cell_type": "code",
   "execution_count": null,
   "id": "41eec08b",
   "metadata": {
    "slideshow": {
     "slide_type": "slide"
    }
   },
   "outputs": [],
   "source": [
    "%%pt\n",
    "\n",
    "penguins.groupby('species')['body_mass_g'].mean()"
   ]
  },
  {
   "cell_type": "markdown",
   "id": "2f8d0708",
   "metadata": {
    "slideshow": {
     "slide_type": "slide"
    }
   },
   "source": [
    "### \"Split-apply-combine\" paradigm\n",
    "\n",
    "The `groupby` method involves three steps: **split**, **apply**, and **combine**. This is the same terminology that the [`pandas` documentation](https://pandas.pydata.org/docs/user_guide/groupby.html) uses.\n",
    "\n",
    "<center><img src=\"imgs/image_0.png\" width=40%></center>\n",
    "\n",
    "- **Split** breaks up and \"groups\" the rows of a DataFrame according to the specified **key**. There is one \"group\" for every unique value of the key.\n",
    "\n",
    "- **Apply** uses a function (e.g. aggregation, transformation, filtration) within the individual groups.\n",
    "\n",
    "- **Combine** stitches the results of these operations into an output DataFrame.\n",
    "\n",
    "- The split-apply-combine pattern can be **parallelized** to work on multiple computers or threads, by sending computations for each group to different processors."
   ]
  },
  {
   "cell_type": "markdown",
   "id": "cce87043",
   "metadata": {
    "slideshow": {
     "slide_type": "slide"
    }
   },
   "source": [
    "### More examples\n",
    "\n",
    "Before we dive into the internals, let's look at a few more examples."
   ]
  },
  {
   "cell_type": "markdown",
   "id": "50e5db5f",
   "metadata": {
    "slideshow": {
     "slide_type": "slide"
    }
   },
   "source": [
    "<div class=\"alert alert-warning\">\n",
    "    <h3>Question 🤔 (Answer at <a href=\"http://q.dsc80.com\">q.dsc80.com)</h3>\n",
    "        \n",
    "What proportion of penguins of each `'species'` live on `'Dream'` island?\n",
    "</div>\n",
    "    \n",
    "Your output should look like:\n",
    "    \n",
    "    species\n",
    "    Adelie       0.38\n",
    "    Chinstrap    1.00\n",
    "    Gentoo       0.00"
   ]
  },
  {
   "cell_type": "code",
   "execution_count": 7,
   "id": "1df4b98e",
   "metadata": {},
   "outputs": [
    {
     "ename": "KeyError",
     "evalue": "'Column not found: False'",
     "output_type": "error",
     "traceback": [
      "\u001b[1;31m---------------------------------------------------------------------------\u001b[0m",
      "\u001b[1;31mKeyError\u001b[0m                                  Traceback (most recent call last)",
      "Cell \u001b[1;32mIn[7], line 3\u001b[0m\n\u001b[0;32m      1\u001b[0m \u001b[38;5;66;03m# Fill this in, then respond on q.dsc80.com\u001b[39;00m\n\u001b[0;32m      2\u001b[0m species \u001b[38;5;241m=\u001b[39m penguins\u001b[38;5;241m.\u001b[39mgroupby(\u001b[38;5;124m'\u001b[39m\u001b[38;5;124mspecies\u001b[39m\u001b[38;5;124m'\u001b[39m)\n\u001b[1;32m----> 3\u001b[0m dream_prop \u001b[38;5;241m=\u001b[39m \u001b[43mspecies\u001b[49m\u001b[43m[\u001b[49m\u001b[43mspecies\u001b[49m\u001b[43m[\u001b[49m\u001b[38;5;124;43m'\u001b[39;49m\u001b[38;5;124;43misland\u001b[39;49m\u001b[38;5;124;43m'\u001b[39;49m\u001b[43m]\u001b[49m\u001b[38;5;241;43m==\u001b[39;49m\u001b[38;5;124;43m'\u001b[39;49m\u001b[38;5;124;43mDream\u001b[39;49m\u001b[38;5;124;43m'\u001b[39;49m\u001b[43m]\u001b[49m\u001b[38;5;241m.\u001b[39mcount()\u001b[38;5;241m/\u001b[39mspecies\u001b[38;5;241m.\u001b[39mcount()\n\u001b[0;32m      4\u001b[0m dream_prop\n",
      "File \u001b[1;32mc:\\Users\\couch\\miniforge3\\envs\\dsc80\\lib\\site-packages\\pandas\\core\\groupby\\generic.py:1538\u001b[0m, in \u001b[0;36mDataFrameGroupBy.__getitem__\u001b[1;34m(self, key)\u001b[0m\n\u001b[0;32m   1529\u001b[0m \u001b[38;5;28;01mif\u001b[39;00m \u001b[38;5;28misinstance\u001b[39m(key, \u001b[38;5;28mtuple\u001b[39m) \u001b[38;5;129;01mand\u001b[39;00m \u001b[38;5;28mlen\u001b[39m(key) \u001b[38;5;241m>\u001b[39m \u001b[38;5;241m1\u001b[39m:\n\u001b[0;32m   1530\u001b[0m     \u001b[38;5;66;03m# if len == 1, then it becomes a SeriesGroupBy and this is actually\u001b[39;00m\n\u001b[0;32m   1531\u001b[0m     \u001b[38;5;66;03m# valid syntax, so don't raise warning\u001b[39;00m\n\u001b[0;32m   1532\u001b[0m     warnings\u001b[38;5;241m.\u001b[39mwarn(\n\u001b[0;32m   1533\u001b[0m         \u001b[38;5;124m\"\u001b[39m\u001b[38;5;124mIndexing with multiple keys (implicitly converted to a tuple \u001b[39m\u001b[38;5;124m\"\u001b[39m\n\u001b[0;32m   1534\u001b[0m         \u001b[38;5;124m\"\u001b[39m\u001b[38;5;124mof keys) will be deprecated, use a list instead.\u001b[39m\u001b[38;5;124m\"\u001b[39m,\n\u001b[0;32m   1535\u001b[0m         \u001b[38;5;167;01mFutureWarning\u001b[39;00m,\n\u001b[0;32m   1536\u001b[0m         stacklevel\u001b[38;5;241m=\u001b[39m\u001b[38;5;241m2\u001b[39m,\n\u001b[0;32m   1537\u001b[0m     )\n\u001b[1;32m-> 1538\u001b[0m \u001b[38;5;28;01mreturn\u001b[39;00m \u001b[38;5;28;43msuper\u001b[39;49m\u001b[43m(\u001b[49m\u001b[43m)\u001b[49m\u001b[38;5;241;43m.\u001b[39;49m\u001b[38;5;21;43m__getitem__\u001b[39;49m\u001b[43m(\u001b[49m\u001b[43mkey\u001b[49m\u001b[43m)\u001b[49m\n",
      "File \u001b[1;32mc:\\Users\\couch\\miniforge3\\envs\\dsc80\\lib\\site-packages\\pandas\\core\\base.py:232\u001b[0m, in \u001b[0;36mSelectionMixin.__getitem__\u001b[1;34m(self, key)\u001b[0m\n\u001b[0;32m    230\u001b[0m \u001b[38;5;28;01melse\u001b[39;00m:\n\u001b[0;32m    231\u001b[0m     \u001b[38;5;28;01mif\u001b[39;00m key \u001b[38;5;129;01mnot\u001b[39;00m \u001b[38;5;129;01min\u001b[39;00m \u001b[38;5;28mself\u001b[39m\u001b[38;5;241m.\u001b[39mobj:\n\u001b[1;32m--> 232\u001b[0m         \u001b[38;5;28;01mraise\u001b[39;00m \u001b[38;5;167;01mKeyError\u001b[39;00m(\u001b[38;5;124mf\u001b[39m\u001b[38;5;124m\"\u001b[39m\u001b[38;5;124mColumn not found: \u001b[39m\u001b[38;5;132;01m{\u001b[39;00mkey\u001b[38;5;132;01m}\u001b[39;00m\u001b[38;5;124m\"\u001b[39m)\n\u001b[0;32m    233\u001b[0m     subset \u001b[38;5;241m=\u001b[39m \u001b[38;5;28mself\u001b[39m\u001b[38;5;241m.\u001b[39mobj[key]\n\u001b[0;32m    234\u001b[0m     ndim \u001b[38;5;241m=\u001b[39m subset\u001b[38;5;241m.\u001b[39mndim\n",
      "\u001b[1;31mKeyError\u001b[0m: 'Column not found: False'"
     ]
    }
   ],
   "source": [
    "# Fill this in, then respond on q.dsc80.com\n",
    "species = penguins.groupby('species')\n",
    "dream_prop = species[species['island']=='Dream'].count()/species.count()\n",
    "dream_prop"
   ]
  },
  {
   "cell_type": "code",
   "execution_count": 11,
   "id": "f89e13ee",
   "metadata": {},
   "outputs": [
    {
     "data": {
      "text/plain": [
       "species\n",
       "Adelie       0.38\n",
       "Chinstrap    1.00\n",
       "Gentoo       0.00\n",
       "Name: on_dream, dtype: float64"
      ]
     },
     "execution_count": 11,
     "metadata": {},
     "output_type": "execute_result"
    }
   ],
   "source": [
    "(penguins\n",
    " .assign(on_dream=penguins['island']=='Dream')\n",
    " .groupby('species')\n",
    " ['on_dream']\n",
    " .mean()\n",
    ")"
   ]
  },
  {
   "cell_type": "code",
   "execution_count": null,
   "id": "2cc9cc89",
   "metadata": {},
   "outputs": [],
   "source": []
  },
  {
   "cell_type": "markdown",
   "id": "c6bfa96e",
   "metadata": {
    "slideshow": {
     "slide_type": "slide"
    }
   },
   "source": [
    "## `DataFrameGroupBy` objects and aggregation"
   ]
  },
  {
   "cell_type": "markdown",
   "id": "6d6e2cd3",
   "metadata": {
    "slideshow": {
     "slide_type": "slide"
    }
   },
   "source": [
    "### `DataFrameGroupBy` objects\n",
    "\n",
    "We've just evaluated a few expressions of the following form."
   ]
  },
  {
   "cell_type": "code",
   "execution_count": 12,
   "id": "14ede341",
   "metadata": {},
   "outputs": [
    {
     "data": {
      "text/html": [
       "<div>\n",
       "<style scoped>\n",
       "    .dataframe tbody tr th:only-of-type {\n",
       "        vertical-align: middle;\n",
       "    }\n",
       "\n",
       "    .dataframe tbody tr th {\n",
       "        vertical-align: top;\n",
       "    }\n",
       "\n",
       "    .dataframe thead th {\n",
       "        text-align: right;\n",
       "    }\n",
       "</style>\n",
       "<table border=\"1\" class=\"dataframe\">\n",
       "  <thead>\n",
       "    <tr style=\"text-align: right;\">\n",
       "      <th></th>\n",
       "      <th>bill_length_mm</th>\n",
       "      <th>bill_depth_mm</th>\n",
       "      <th>flipper_length_mm</th>\n",
       "      <th>body_mass_g</th>\n",
       "    </tr>\n",
       "    <tr>\n",
       "      <th>species</th>\n",
       "      <th></th>\n",
       "      <th></th>\n",
       "      <th></th>\n",
       "      <th></th>\n",
       "    </tr>\n",
       "  </thead>\n",
       "  <tbody>\n",
       "    <tr>\n",
       "      <th>Adelie</th>\n",
       "      <td>38.82</td>\n",
       "      <td>18.35</td>\n",
       "      <td>190.10</td>\n",
       "      <td>3706.16</td>\n",
       "    </tr>\n",
       "    <tr>\n",
       "      <th>Chinstrap</th>\n",
       "      <td>48.83</td>\n",
       "      <td>18.42</td>\n",
       "      <td>195.82</td>\n",
       "      <td>3733.09</td>\n",
       "    </tr>\n",
       "    <tr>\n",
       "      <th>Gentoo</th>\n",
       "      <td>47.57</td>\n",
       "      <td>15.00</td>\n",
       "      <td>217.24</td>\n",
       "      <td>5092.44</td>\n",
       "    </tr>\n",
       "  </tbody>\n",
       "</table>\n",
       "</div>"
      ],
      "text/plain": [
       "           bill_length_mm  bill_depth_mm  flipper_length_mm  body_mass_g\n",
       "species                                                                 \n",
       "Adelie              38.82          18.35             190.10      3706.16\n",
       "Chinstrap           48.83          18.42             195.82      3733.09\n",
       "Gentoo              47.57          15.00             217.24      5092.44"
      ]
     },
     "execution_count": 12,
     "metadata": {},
     "output_type": "execute_result"
    }
   ],
   "source": [
    "penguins.groupby('species').mean()"
   ]
  },
  {
   "cell_type": "markdown",
   "id": "95ee51b5",
   "metadata": {
    "slideshow": {
     "slide_type": "fragment"
    }
   },
   "source": [
    "There are two method calls in the expression above: `.groupby('species')` and `.mean()`. What happens if we remove the latter?"
   ]
  },
  {
   "cell_type": "code",
   "execution_count": 13,
   "id": "16bdc987",
   "metadata": {},
   "outputs": [
    {
     "data": {
      "text/plain": [
       "<pandas.core.groupby.generic.DataFrameGroupBy object at 0x000002BA9231EAC0>"
      ]
     },
     "execution_count": 13,
     "metadata": {},
     "output_type": "execute_result"
    }
   ],
   "source": [
    "penguins.groupby('species')"
   ]
  },
  {
   "cell_type": "markdown",
   "id": "092a96d6",
   "metadata": {
    "slideshow": {
     "slide_type": "slide"
    }
   },
   "source": [
    "### Peeking under the hood\n",
    "\n",
    "If `df` is a DataFrame, then `df.groupby(key)` returns a `DataFrameGroupBy` object.\n",
    "\n",
    "This object represents the \"split\" in \"split-apply-combine\"."
   ]
  },
  {
   "cell_type": "code",
   "execution_count": 14,
   "id": "af9540c5",
   "metadata": {},
   "outputs": [
    {
     "data": {
      "text/html": [
       "<div>\n",
       "<style scoped>\n",
       "    .dataframe tbody tr th:only-of-type {\n",
       "        vertical-align: middle;\n",
       "    }\n",
       "\n",
       "    .dataframe tbody tr th {\n",
       "        vertical-align: top;\n",
       "    }\n",
       "\n",
       "    .dataframe thead th {\n",
       "        text-align: right;\n",
       "    }\n",
       "</style>\n",
       "<table border=\"1\" class=\"dataframe\">\n",
       "  <thead>\n",
       "    <tr style=\"text-align: right;\">\n",
       "      <th></th>\n",
       "      <th>species</th>\n",
       "      <th>body_mass_g</th>\n",
       "      <th>sex</th>\n",
       "    </tr>\n",
       "  </thead>\n",
       "  <tbody>\n",
       "    <tr>\n",
       "      <th>0</th>\n",
       "      <td>Adelie</td>\n",
       "      <td>3750.0</td>\n",
       "      <td>Male</td>\n",
       "    </tr>\n",
       "    <tr>\n",
       "      <th>156</th>\n",
       "      <td>Chinstrap</td>\n",
       "      <td>3725.0</td>\n",
       "      <td>Male</td>\n",
       "    </tr>\n",
       "    <tr>\n",
       "      <th>308</th>\n",
       "      <td>Gentoo</td>\n",
       "      <td>4875.0</td>\n",
       "      <td>Female</td>\n",
       "    </tr>\n",
       "    <tr>\n",
       "      <th>1</th>\n",
       "      <td>Adelie</td>\n",
       "      <td>3800.0</td>\n",
       "      <td>Female</td>\n",
       "    </tr>\n",
       "    <tr>\n",
       "      <th>258</th>\n",
       "      <td>Gentoo</td>\n",
       "      <td>4350.0</td>\n",
       "      <td>Female</td>\n",
       "    </tr>\n",
       "    <tr>\n",
       "      <th>157</th>\n",
       "      <td>Chinstrap</td>\n",
       "      <td>3950.0</td>\n",
       "      <td>Female</td>\n",
       "    </tr>\n",
       "    <tr>\n",
       "      <th>309</th>\n",
       "      <td>Gentoo</td>\n",
       "      <td>5550.0</td>\n",
       "      <td>Male</td>\n",
       "    </tr>\n",
       "  </tbody>\n",
       "</table>\n",
       "</div>"
      ],
      "text/plain": [
       "       species  body_mass_g     sex\n",
       "0       Adelie       3750.0    Male\n",
       "156  Chinstrap       3725.0    Male\n",
       "308     Gentoo       4875.0  Female\n",
       "1       Adelie       3800.0  Female\n",
       "258     Gentoo       4350.0  Female\n",
       "157  Chinstrap       3950.0  Female\n",
       "309     Gentoo       5550.0    Male"
      ]
     },
     "execution_count": 14,
     "metadata": {},
     "output_type": "execute_result"
    }
   ],
   "source": [
    "# Simplified DataFrame for demonstration:\n",
    "penguins_small = penguins.iloc[[0, 150, 300, 1, 251, 151, 301], [0, 5, 6]]\n",
    "penguins_small"
   ]
  },
  {
   "cell_type": "code",
   "execution_count": 15,
   "id": "b6c3ecfa",
   "metadata": {},
   "outputs": [
    {
     "data": {
      "text/plain": [
       "<pandas.core.groupby.generic.DataFrameGroupBy object at 0x000002BA9231E820>"
      ]
     },
     "execution_count": 15,
     "metadata": {},
     "output_type": "execute_result"
    }
   ],
   "source": [
    "# Creates one group for each unique value in the species column.\n",
    "penguin_groups = penguins_small.groupby('species')\n",
    "penguin_groups"
   ]
  },
  {
   "cell_type": "code",
   "execution_count": 16,
   "id": "ae7fd384",
   "metadata": {},
   "outputs": [
    {
     "data": {
      "text/html": [
       "\n",
       "<div class=\"pt-viz\" id=\"pt-viz-0\"></div>\n",
       "<script>\n",
       "drawWsv('#pt-viz-0', \"{\\n  \\\"code\\\": \\\"penguin_groups\\\\n\\\",\\n  \\\"explanation\\\": [\\n    {\\n      \\\"type\\\": \\\"StartOfChain\\\",\\n      \\\"code_step\\\": \\\"penguin_groups\\\",\\n      \\\"fragment\\\": {\\n        \\\"start\\\": {\\n          \\\"line\\\": 0,\\n          \\\"ch\\\": 0\\n        },\\n        \\\"end\\\": {\\n          \\\"line\\\": 0,\\n          \\\"ch\\\": 14\\n        }\\n      },\\n      \\\"marks\\\": [],\\n      \\\"data\\\": {\\n        \\\"lhs\\\": {\\n          \\\"type\\\": \\\"DataFrameGroupBy\\\",\\n          \\\"columns\\\": {\\n            \\\"names\\\": [\\n              null\\n            ],\\n            \\\"labels\\\": [\\n              \\\"species\\\",\\n              \\\"body_mass_g\\\",\\n              \\\"sex\\\"\\n            ]\\n          },\\n          \\\"index\\\": {\\n            \\\"names\\\": [\\n              null\\n            ],\\n            \\\"labels\\\": [\\n              0,\\n              156,\\n              308,\\n              1,\\n              258,\\n              157,\\n              309\\n            ]\\n          },\\n          \\\"data\\\": [\\n            [\\n              \\\"Adelie\\\",\\n              3750.0,\\n              \\\"Male\\\"\\n            ],\\n            [\\n              \\\"Chinstrap\\\",\\n              3725.0,\\n              \\\"Male\\\"\\n            ],\\n            [\\n              \\\"Gentoo\\\",\\n              4875.0,\\n              \\\"Female\\\"\\n            ],\\n            [\\n              \\\"Adelie\\\",\\n              3800.0,\\n              \\\"Female\\\"\\n            ],\\n            [\\n              \\\"Gentoo\\\",\\n              4350.0,\\n              \\\"Female\\\"\\n            ],\\n            [\\n              \\\"Chinstrap\\\",\\n              3950.0,\\n              \\\"Female\\\"\\n            ],\\n            [\\n              \\\"Gentoo\\\",\\n              5550.0,\\n              \\\"Male\\\"\\n            ]\\n          ],\\n          \\\"group_data\\\": {\\n            \\\"columns\\\": [\\n              \\\"species\\\"\\n            ],\\n            \\\"groups\\\": [\\n              {\\n                \\\"name\\\": [\\n                  \\\"Adelie\\\"\\n                ],\\n                \\\"labels\\\": [\\n                  0,\\n                  1\\n                ]\\n              },\\n              {\\n                \\\"name\\\": [\\n                  \\\"Chinstrap\\\"\\n                ],\\n                \\\"labels\\\": [\\n                  156,\\n                  157\\n                ]\\n              },\\n              {\\n                \\\"name\\\": [\\n                  \\\"Gentoo\\\"\\n                ],\\n                \\\"labels\\\": [\\n                  308,\\n                  258,\\n                  309\\n                ]\\n              }\\n            ]\\n          }\\n        },\\n        \\\"rhs\\\": \\\"no_rhs\\\"\\n      }\\n    }\\n  ]\\n}\", {\"nohover\": true, \"maxDisplayRows\": 7, \"maxDisplayCols\": 8, \"colorPalette\": [\"#e41a1c\", \"#377eb8\", \"#4daf4a\", \"#984ea3\", \"#ff7f00\", \"#a65628\", \"#f781bf\", \"#999999\"]});\n",
       "</script>\n"
      ],
      "text/plain": [
       "<IPython.core.display.HTML object>"
      ]
     },
     "metadata": {},
     "output_type": "display_data"
    }
   ],
   "source": [
    "%%pt\n",
    "penguin_groups"
   ]
  },
  {
   "cell_type": "markdown",
   "id": "beae456a",
   "metadata": {
    "slideshow": {
     "slide_type": "slide"
    }
   },
   "source": [
    "`DataFrameGroupBy` objects have a `groups` attribute, which is a dictionary in which the keys are group names and the values are lists of row labels."
   ]
  },
  {
   "cell_type": "code",
   "execution_count": 17,
   "id": "1526d3ff",
   "metadata": {},
   "outputs": [
    {
     "data": {
      "text/plain": [
       "{'Adelie': [0, 1], 'Chinstrap': [156, 157], 'Gentoo': [308, 258, 309]}"
      ]
     },
     "execution_count": 17,
     "metadata": {},
     "output_type": "execute_result"
    }
   ],
   "source": [
    "penguin_groups.groups"
   ]
  },
  {
   "cell_type": "markdown",
   "id": "f2d52d95",
   "metadata": {
    "slideshow": {
     "slide_type": "slide"
    }
   },
   "source": [
    "`DataFrameGroupBy` objects also have a `get_group(key)` method, which returns a DataFrame with only the values for the given key."
   ]
  },
  {
   "cell_type": "code",
   "execution_count": 18,
   "id": "5a8bcea7",
   "metadata": {},
   "outputs": [
    {
     "data": {
      "text/html": [
       "<div>\n",
       "<style scoped>\n",
       "    .dataframe tbody tr th:only-of-type {\n",
       "        vertical-align: middle;\n",
       "    }\n",
       "\n",
       "    .dataframe tbody tr th {\n",
       "        vertical-align: top;\n",
       "    }\n",
       "\n",
       "    .dataframe thead th {\n",
       "        text-align: right;\n",
       "    }\n",
       "</style>\n",
       "<table border=\"1\" class=\"dataframe\">\n",
       "  <thead>\n",
       "    <tr style=\"text-align: right;\">\n",
       "      <th></th>\n",
       "      <th>species</th>\n",
       "      <th>body_mass_g</th>\n",
       "      <th>sex</th>\n",
       "    </tr>\n",
       "  </thead>\n",
       "  <tbody>\n",
       "    <tr>\n",
       "      <th>156</th>\n",
       "      <td>Chinstrap</td>\n",
       "      <td>3725.0</td>\n",
       "      <td>Male</td>\n",
       "    </tr>\n",
       "    <tr>\n",
       "      <th>157</th>\n",
       "      <td>Chinstrap</td>\n",
       "      <td>3950.0</td>\n",
       "      <td>Female</td>\n",
       "    </tr>\n",
       "  </tbody>\n",
       "</table>\n",
       "</div>"
      ],
      "text/plain": [
       "       species  body_mass_g     sex\n",
       "156  Chinstrap       3725.0    Male\n",
       "157  Chinstrap       3950.0  Female"
      ]
     },
     "execution_count": 18,
     "metadata": {},
     "output_type": "execute_result"
    }
   ],
   "source": [
    "penguin_groups.get_group('Chinstrap')"
   ]
  },
  {
   "cell_type": "code",
   "execution_count": 19,
   "id": "6c3f0700",
   "metadata": {},
   "outputs": [
    {
     "data": {
      "text/html": [
       "<div>\n",
       "<style scoped>\n",
       "    .dataframe tbody tr th:only-of-type {\n",
       "        vertical-align: middle;\n",
       "    }\n",
       "\n",
       "    .dataframe tbody tr th {\n",
       "        vertical-align: top;\n",
       "    }\n",
       "\n",
       "    .dataframe thead th {\n",
       "        text-align: right;\n",
       "    }\n",
       "</style>\n",
       "<table border=\"1\" class=\"dataframe\">\n",
       "  <thead>\n",
       "    <tr style=\"text-align: right;\">\n",
       "      <th></th>\n",
       "      <th>species</th>\n",
       "      <th>body_mass_g</th>\n",
       "      <th>sex</th>\n",
       "    </tr>\n",
       "  </thead>\n",
       "  <tbody>\n",
       "    <tr>\n",
       "      <th>156</th>\n",
       "      <td>Chinstrap</td>\n",
       "      <td>3725.0</td>\n",
       "      <td>Male</td>\n",
       "    </tr>\n",
       "    <tr>\n",
       "      <th>157</th>\n",
       "      <td>Chinstrap</td>\n",
       "      <td>3950.0</td>\n",
       "      <td>Female</td>\n",
       "    </tr>\n",
       "  </tbody>\n",
       "</table>\n",
       "</div>"
      ],
      "text/plain": [
       "       species  body_mass_g     sex\n",
       "156  Chinstrap       3725.0    Male\n",
       "157  Chinstrap       3950.0  Female"
      ]
     },
     "execution_count": 19,
     "metadata": {},
     "output_type": "execute_result"
    }
   ],
   "source": [
    "# Same as the above!\n",
    "penguins_small.query('species == \"Chinstrap\"')"
   ]
  },
  {
   "cell_type": "markdown",
   "id": "b9472556",
   "metadata": {
    "slideshow": {
     "slide_type": "fragment"
    }
   },
   "source": [
    "We usually don't use these attributes and methods, but they're useful in understanding how `groupby` works under the hood."
   ]
  },
  {
   "cell_type": "markdown",
   "id": "178de68f",
   "metadata": {
    "slideshow": {
     "slide_type": "slide"
    }
   },
   "source": [
    "### Aggregation\n",
    "\n",
    "- Once we create a `DataFrameGroupBy` object, we need to **apply** some function to each group, and **combine** the results.\n",
    "\n",
    "- The most common operation we apply to each group is an **aggregation**.\n",
    "    - Remember, aggregation is the act of combining many values into a single value.\n",
    "- To perform an aggregation, use an aggregation method on the `DataFrameGroupBy` object, e.g. `.mean()`, `.max()`, or `.median()`."
   ]
  },
  {
   "cell_type": "markdown",
   "id": "45789d69",
   "metadata": {
    "slideshow": {
     "slide_type": "slide"
    }
   },
   "source": [
    "Let's look at some examples."
   ]
  },
  {
   "cell_type": "code",
   "execution_count": 20,
   "id": "ecf032ef",
   "metadata": {
    "scrolled": true,
    "slideshow": {
     "slide_type": "-"
    }
   },
   "outputs": [
    {
     "data": {
      "text/html": [
       "<div>\n",
       "<style scoped>\n",
       "    .dataframe tbody tr th:only-of-type {\n",
       "        vertical-align: middle;\n",
       "    }\n",
       "\n",
       "    .dataframe tbody tr th {\n",
       "        vertical-align: top;\n",
       "    }\n",
       "\n",
       "    .dataframe thead th {\n",
       "        text-align: right;\n",
       "    }\n",
       "</style>\n",
       "<table border=\"1\" class=\"dataframe\">\n",
       "  <thead>\n",
       "    <tr style=\"text-align: right;\">\n",
       "      <th></th>\n",
       "      <th>species</th>\n",
       "      <th>body_mass_g</th>\n",
       "      <th>sex</th>\n",
       "    </tr>\n",
       "  </thead>\n",
       "  <tbody>\n",
       "    <tr>\n",
       "      <th>0</th>\n",
       "      <td>Adelie</td>\n",
       "      <td>3750.0</td>\n",
       "      <td>Male</td>\n",
       "    </tr>\n",
       "    <tr>\n",
       "      <th>156</th>\n",
       "      <td>Chinstrap</td>\n",
       "      <td>3725.0</td>\n",
       "      <td>Male</td>\n",
       "    </tr>\n",
       "    <tr>\n",
       "      <th>308</th>\n",
       "      <td>Gentoo</td>\n",
       "      <td>4875.0</td>\n",
       "      <td>Female</td>\n",
       "    </tr>\n",
       "    <tr>\n",
       "      <th>1</th>\n",
       "      <td>Adelie</td>\n",
       "      <td>3800.0</td>\n",
       "      <td>Female</td>\n",
       "    </tr>\n",
       "    <tr>\n",
       "      <th>258</th>\n",
       "      <td>Gentoo</td>\n",
       "      <td>4350.0</td>\n",
       "      <td>Female</td>\n",
       "    </tr>\n",
       "    <tr>\n",
       "      <th>157</th>\n",
       "      <td>Chinstrap</td>\n",
       "      <td>3950.0</td>\n",
       "      <td>Female</td>\n",
       "    </tr>\n",
       "    <tr>\n",
       "      <th>309</th>\n",
       "      <td>Gentoo</td>\n",
       "      <td>5550.0</td>\n",
       "      <td>Male</td>\n",
       "    </tr>\n",
       "  </tbody>\n",
       "</table>\n",
       "</div>"
      ],
      "text/plain": [
       "       species  body_mass_g     sex\n",
       "0       Adelie       3750.0    Male\n",
       "156  Chinstrap       3725.0    Male\n",
       "308     Gentoo       4875.0  Female\n",
       "1       Adelie       3800.0  Female\n",
       "258     Gentoo       4350.0  Female\n",
       "157  Chinstrap       3950.0  Female\n",
       "309     Gentoo       5550.0    Male"
      ]
     },
     "execution_count": 20,
     "metadata": {},
     "output_type": "execute_result"
    }
   ],
   "source": [
    "penguins_small"
   ]
  },
  {
   "cell_type": "code",
   "execution_count": 21,
   "id": "5f9c1d82",
   "metadata": {},
   "outputs": [
    {
     "data": {
      "text/html": [
       "<div>\n",
       "<style scoped>\n",
       "    .dataframe tbody tr th:only-of-type {\n",
       "        vertical-align: middle;\n",
       "    }\n",
       "\n",
       "    .dataframe tbody tr th {\n",
       "        vertical-align: top;\n",
       "    }\n",
       "\n",
       "    .dataframe thead th {\n",
       "        text-align: right;\n",
       "    }\n",
       "</style>\n",
       "<table border=\"1\" class=\"dataframe\">\n",
       "  <thead>\n",
       "    <tr style=\"text-align: right;\">\n",
       "      <th></th>\n",
       "      <th>body_mass_g</th>\n",
       "    </tr>\n",
       "    <tr>\n",
       "      <th>species</th>\n",
       "      <th></th>\n",
       "    </tr>\n",
       "  </thead>\n",
       "  <tbody>\n",
       "    <tr>\n",
       "      <th>Adelie</th>\n",
       "      <td>3775.0</td>\n",
       "    </tr>\n",
       "    <tr>\n",
       "      <th>Chinstrap</th>\n",
       "      <td>3837.5</td>\n",
       "    </tr>\n",
       "    <tr>\n",
       "      <th>Gentoo</th>\n",
       "      <td>4925.0</td>\n",
       "    </tr>\n",
       "  </tbody>\n",
       "</table>\n",
       "</div>"
      ],
      "text/plain": [
       "           body_mass_g\n",
       "species               \n",
       "Adelie          3775.0\n",
       "Chinstrap       3837.5\n",
       "Gentoo          4925.0"
      ]
     },
     "execution_count": 21,
     "metadata": {},
     "output_type": "execute_result"
    }
   ],
   "source": [
    "penguins_small.groupby('species').mean()"
   ]
  },
  {
   "cell_type": "code",
   "execution_count": 22,
   "id": "d9901725",
   "metadata": {},
   "outputs": [
    {
     "data": {
      "text/html": [
       "<div>\n",
       "<style scoped>\n",
       "    .dataframe tbody tr th:only-of-type {\n",
       "        vertical-align: middle;\n",
       "    }\n",
       "\n",
       "    .dataframe tbody tr th {\n",
       "        vertical-align: top;\n",
       "    }\n",
       "\n",
       "    .dataframe thead th {\n",
       "        text-align: right;\n",
       "    }\n",
       "</style>\n",
       "<table border=\"1\" class=\"dataframe\">\n",
       "  <thead>\n",
       "    <tr style=\"text-align: right;\">\n",
       "      <th></th>\n",
       "      <th>body_mass_g</th>\n",
       "    </tr>\n",
       "    <tr>\n",
       "      <th>species</th>\n",
       "      <th></th>\n",
       "    </tr>\n",
       "  </thead>\n",
       "  <tbody>\n",
       "    <tr>\n",
       "      <th>Adelie</th>\n",
       "      <td>7550.0</td>\n",
       "    </tr>\n",
       "    <tr>\n",
       "      <th>Chinstrap</th>\n",
       "      <td>7675.0</td>\n",
       "    </tr>\n",
       "    <tr>\n",
       "      <th>Gentoo</th>\n",
       "      <td>14775.0</td>\n",
       "    </tr>\n",
       "  </tbody>\n",
       "</table>\n",
       "</div>"
      ],
      "text/plain": [
       "           body_mass_g\n",
       "species               \n",
       "Adelie          7550.0\n",
       "Chinstrap       7675.0\n",
       "Gentoo         14775.0"
      ]
     },
     "execution_count": 22,
     "metadata": {},
     "output_type": "execute_result"
    }
   ],
   "source": [
    "penguins_small.groupby('species').sum()"
   ]
  },
  {
   "cell_type": "code",
   "execution_count": 23,
   "id": "239f8d70",
   "metadata": {},
   "outputs": [
    {
     "data": {
      "text/html": [
       "<div>\n",
       "<style scoped>\n",
       "    .dataframe tbody tr th:only-of-type {\n",
       "        vertical-align: middle;\n",
       "    }\n",
       "\n",
       "    .dataframe tbody tr th {\n",
       "        vertical-align: top;\n",
       "    }\n",
       "\n",
       "    .dataframe thead th {\n",
       "        text-align: right;\n",
       "    }\n",
       "</style>\n",
       "<table border=\"1\" class=\"dataframe\">\n",
       "  <thead>\n",
       "    <tr style=\"text-align: right;\">\n",
       "      <th></th>\n",
       "      <th>body_mass_g</th>\n",
       "      <th>sex</th>\n",
       "    </tr>\n",
       "    <tr>\n",
       "      <th>species</th>\n",
       "      <th></th>\n",
       "      <th></th>\n",
       "    </tr>\n",
       "  </thead>\n",
       "  <tbody>\n",
       "    <tr>\n",
       "      <th>Adelie</th>\n",
       "      <td>3800.0</td>\n",
       "      <td>Female</td>\n",
       "    </tr>\n",
       "    <tr>\n",
       "      <th>Chinstrap</th>\n",
       "      <td>3950.0</td>\n",
       "      <td>Female</td>\n",
       "    </tr>\n",
       "    <tr>\n",
       "      <th>Gentoo</th>\n",
       "      <td>5550.0</td>\n",
       "      <td>Male</td>\n",
       "    </tr>\n",
       "  </tbody>\n",
       "</table>\n",
       "</div>"
      ],
      "text/plain": [
       "           body_mass_g     sex\n",
       "species                       \n",
       "Adelie          3800.0  Female\n",
       "Chinstrap       3950.0  Female\n",
       "Gentoo          5550.0    Male"
      ]
     },
     "execution_count": 23,
     "metadata": {},
     "output_type": "execute_result"
    }
   ],
   "source": [
    "penguins_small.groupby('species').last()"
   ]
  },
  {
   "cell_type": "code",
   "execution_count": 24,
   "id": "dfcfcbf3",
   "metadata": {
    "scrolled": true
   },
   "outputs": [
    {
     "data": {
      "text/html": [
       "<div>\n",
       "<style scoped>\n",
       "    .dataframe tbody tr th:only-of-type {\n",
       "        vertical-align: middle;\n",
       "    }\n",
       "\n",
       "    .dataframe tbody tr th {\n",
       "        vertical-align: top;\n",
       "    }\n",
       "\n",
       "    .dataframe thead th {\n",
       "        text-align: right;\n",
       "    }\n",
       "</style>\n",
       "<table border=\"1\" class=\"dataframe\">\n",
       "  <thead>\n",
       "    <tr style=\"text-align: right;\">\n",
       "      <th></th>\n",
       "      <th>body_mass_g</th>\n",
       "      <th>sex</th>\n",
       "    </tr>\n",
       "    <tr>\n",
       "      <th>species</th>\n",
       "      <th></th>\n",
       "      <th></th>\n",
       "    </tr>\n",
       "  </thead>\n",
       "  <tbody>\n",
       "    <tr>\n",
       "      <th>Adelie</th>\n",
       "      <td>3800.0</td>\n",
       "      <td>Male</td>\n",
       "    </tr>\n",
       "    <tr>\n",
       "      <th>Chinstrap</th>\n",
       "      <td>3950.0</td>\n",
       "      <td>Male</td>\n",
       "    </tr>\n",
       "    <tr>\n",
       "      <th>Gentoo</th>\n",
       "      <td>5550.0</td>\n",
       "      <td>Male</td>\n",
       "    </tr>\n",
       "  </tbody>\n",
       "</table>\n",
       "</div>"
      ],
      "text/plain": [
       "           body_mass_g   sex\n",
       "species                     \n",
       "Adelie          3800.0  Male\n",
       "Chinstrap       3950.0  Male\n",
       "Gentoo          5550.0  Male"
      ]
     },
     "execution_count": 24,
     "metadata": {},
     "output_type": "execute_result"
    }
   ],
   "source": [
    "penguins_small.groupby('species').max()"
   ]
  },
  {
   "cell_type": "markdown",
   "id": "c7abccbe",
   "metadata": {
    "slideshow": {
     "slide_type": "slide"
    }
   },
   "source": [
    "### Column independence\n",
    "\n",
    "Within each group, the aggregation method is applied to **each column independently**."
   ]
  },
  {
   "cell_type": "code",
   "execution_count": 25,
   "id": "0712c4fe",
   "metadata": {},
   "outputs": [
    {
     "data": {
      "text/html": [
       "<div>\n",
       "<style scoped>\n",
       "    .dataframe tbody tr th:only-of-type {\n",
       "        vertical-align: middle;\n",
       "    }\n",
       "\n",
       "    .dataframe tbody tr th {\n",
       "        vertical-align: top;\n",
       "    }\n",
       "\n",
       "    .dataframe thead th {\n",
       "        text-align: right;\n",
       "    }\n",
       "</style>\n",
       "<table border=\"1\" class=\"dataframe\">\n",
       "  <thead>\n",
       "    <tr style=\"text-align: right;\">\n",
       "      <th></th>\n",
       "      <th>body_mass_g</th>\n",
       "      <th>sex</th>\n",
       "    </tr>\n",
       "    <tr>\n",
       "      <th>species</th>\n",
       "      <th></th>\n",
       "      <th></th>\n",
       "    </tr>\n",
       "  </thead>\n",
       "  <tbody>\n",
       "    <tr>\n",
       "      <th>Adelie</th>\n",
       "      <td>3800.0</td>\n",
       "      <td>Male</td>\n",
       "    </tr>\n",
       "    <tr>\n",
       "      <th>Chinstrap</th>\n",
       "      <td>3950.0</td>\n",
       "      <td>Male</td>\n",
       "    </tr>\n",
       "    <tr>\n",
       "      <th>Gentoo</th>\n",
       "      <td>5550.0</td>\n",
       "      <td>Male</td>\n",
       "    </tr>\n",
       "  </tbody>\n",
       "</table>\n",
       "</div>"
      ],
      "text/plain": [
       "           body_mass_g   sex\n",
       "species                     \n",
       "Adelie          3800.0  Male\n",
       "Chinstrap       3950.0  Male\n",
       "Gentoo          5550.0  Male"
      ]
     },
     "execution_count": 25,
     "metadata": {},
     "output_type": "execute_result"
    }
   ],
   "source": [
    "penguins_small.groupby('species').max()"
   ]
  },
  {
   "cell_type": "markdown",
   "id": "aea963e9",
   "metadata": {
    "slideshow": {
     "slide_type": "fragment"
    }
   },
   "source": [
    "It **is not** telling us that there is a `'Male'` `'Adelie'` penguin with a `'body_mass_g'` of `3800.0`!"
   ]
  },
  {
   "cell_type": "code",
   "execution_count": 26,
   "id": "2b7bffd6",
   "metadata": {},
   "outputs": [
    {
     "data": {
      "text/html": [
       "<div>\n",
       "<style scoped>\n",
       "    .dataframe tbody tr th:only-of-type {\n",
       "        vertical-align: middle;\n",
       "    }\n",
       "\n",
       "    .dataframe tbody tr th {\n",
       "        vertical-align: top;\n",
       "    }\n",
       "\n",
       "    .dataframe thead th {\n",
       "        text-align: right;\n",
       "    }\n",
       "</style>\n",
       "<table border=\"1\" class=\"dataframe\">\n",
       "  <thead>\n",
       "    <tr style=\"text-align: right;\">\n",
       "      <th></th>\n",
       "      <th>species</th>\n",
       "      <th>body_mass_g</th>\n",
       "      <th>sex</th>\n",
       "    </tr>\n",
       "  </thead>\n",
       "  <tbody>\n",
       "    <tr>\n",
       "      <th>1</th>\n",
       "      <td>Adelie</td>\n",
       "      <td>3800.0</td>\n",
       "      <td>Female</td>\n",
       "    </tr>\n",
       "  </tbody>\n",
       "</table>\n",
       "</div>"
      ],
      "text/plain": [
       "  species  body_mass_g     sex\n",
       "1  Adelie       3800.0  Female"
      ]
     },
     "execution_count": 26,
     "metadata": {},
     "output_type": "execute_result"
    }
   ],
   "source": [
    "# This penguin is Female!\n",
    "penguins_small.loc[(penguins['species'] == 'Adelie') & (penguins['body_mass_g'] == 3800.0)]"
   ]
  },
  {
   "cell_type": "markdown",
   "id": "68ae6955",
   "metadata": {
    "slideshow": {
     "slide_type": "slide"
    }
   },
   "source": [
    "<div class=\"alert alert-warning\">\n",
    "    <h3>Question 🤔 (Answer at <a href=\"http://q.dsc80.com\">q.dsc80.com)</h3>\n",
    "\n",
    "Find the <code>'species'</code> and <code>'body_mass_g'</code> of the heaviest <code>'Male'</code> and <code>'Female'</code> penguins in <code>penguins</code> (not <code>penguins_small</code>).\n",
    "</div>"
   ]
  },
  {
   "cell_type": "code",
   "execution_count": 37,
   "id": "58e1eaf1",
   "metadata": {},
   "outputs": [
    {
     "data": {
      "text/plain": [
       "(species              Gentoo\n",
       " island               Biscoe\n",
       " bill_length_mm         49.2\n",
       " bill_depth_mm          15.2\n",
       " flipper_length_mm     221.0\n",
       " body_mass_g          6300.0\n",
       " sex                    Male\n",
       " Name: 237, dtype: object,\n",
       " species              Gentoo\n",
       " island               Biscoe\n",
       " bill_length_mm         45.2\n",
       " bill_depth_mm          14.8\n",
       " flipper_length_mm     212.0\n",
       " body_mass_g          5200.0\n",
       " sex                  Female\n",
       " Name: 342, dtype: object)"
      ]
     },
     "execution_count": 37,
     "metadata": {},
     "output_type": "execute_result"
    }
   ],
   "source": [
    "# Your code goes here.\n",
    "male_penguins = penguins[penguins['sex']=='Male'].sort_values(by='body_mass_g', ascending=False).iloc[0]\n",
    "female_penguins = penguins[penguins['sex']=='Female'].sort_values(by='body_mass_g', ascending=False).iloc[0]\n",
    "male_penguins, female_penguins"
   ]
  },
  {
   "cell_type": "code",
   "execution_count": 41,
   "id": "aa639e28",
   "metadata": {},
   "outputs": [
    {
     "ename": "KeyError",
     "evalue": "\"['isand'] not in index\"",
     "output_type": "error",
     "traceback": [
      "\u001b[1;31m---------------------------------------------------------------------------\u001b[0m",
      "\u001b[1;31mKeyError\u001b[0m                                  Traceback (most recent call last)",
      "Cell \u001b[1;32mIn[41], line 1\u001b[0m\n\u001b[1;32m----> 1\u001b[0m (\u001b[43mpenguins\u001b[49m\n\u001b[0;32m      2\u001b[0m \u001b[43m \u001b[49m\u001b[38;5;241;43m.\u001b[39;49m\u001b[43msort_values\u001b[49m\u001b[43m(\u001b[49m\u001b[38;5;124;43m'\u001b[39;49m\u001b[38;5;124;43mbody_mass_g\u001b[39;49m\u001b[38;5;124;43m'\u001b[39;49m\u001b[43m,\u001b[49m\u001b[43m \u001b[49m\u001b[43mascending\u001b[49m\u001b[38;5;241;43m=\u001b[39;49m\u001b[38;5;28;43;01mFalse\u001b[39;49;00m\u001b[43m)\u001b[49m\n\u001b[0;32m      3\u001b[0m \u001b[43m \u001b[49m\u001b[38;5;241;43m.\u001b[39;49m\u001b[43mgroupby\u001b[49m\u001b[43m(\u001b[49m\u001b[43mby\u001b[49m\u001b[38;5;241;43m=\u001b[39;49m\u001b[38;5;124;43m'\u001b[39;49m\u001b[38;5;124;43msex\u001b[39;49m\u001b[38;5;124;43m'\u001b[39;49m\u001b[43m)\u001b[49m\n\u001b[0;32m      4\u001b[0m \u001b[43m \u001b[49m\u001b[38;5;241;43m.\u001b[39;49m\u001b[43mfirst\u001b[49m\u001b[43m(\u001b[49m\u001b[43m)\u001b[49m\n\u001b[0;32m      5\u001b[0m \u001b[43m \u001b[49m\u001b[43m[\u001b[49m\u001b[43m[\u001b[49m\u001b[38;5;124;43m'\u001b[39;49m\u001b[38;5;124;43mspecies\u001b[39;49m\u001b[38;5;124;43m'\u001b[39;49m\u001b[43m,\u001b[49m\u001b[43m \u001b[49m\u001b[38;5;124;43m'\u001b[39;49m\u001b[38;5;124;43misand\u001b[39;49m\u001b[38;5;124;43m'\u001b[39;49m\u001b[43m,\u001b[49m\u001b[43m \u001b[49m\u001b[38;5;124;43m'\u001b[39;49m\u001b[38;5;124;43mbody_mass_g\u001b[39;49m\u001b[38;5;124;43m'\u001b[39;49m\u001b[43m]\u001b[49m\u001b[43m]\u001b[49m\n\u001b[0;32m      6\u001b[0m  )\n",
      "File \u001b[1;32mc:\\Users\\couch\\miniforge3\\envs\\dsc80\\lib\\site-packages\\pandas\\core\\frame.py:3464\u001b[0m, in \u001b[0;36mDataFrame.__getitem__\u001b[1;34m(self, key)\u001b[0m\n\u001b[0;32m   3462\u001b[0m     \u001b[38;5;28;01mif\u001b[39;00m is_iterator(key):\n\u001b[0;32m   3463\u001b[0m         key \u001b[38;5;241m=\u001b[39m \u001b[38;5;28mlist\u001b[39m(key)\n\u001b[1;32m-> 3464\u001b[0m     indexer \u001b[38;5;241m=\u001b[39m \u001b[38;5;28;43mself\u001b[39;49m\u001b[38;5;241;43m.\u001b[39;49m\u001b[43mloc\u001b[49m\u001b[38;5;241;43m.\u001b[39;49m\u001b[43m_get_listlike_indexer\u001b[49m\u001b[43m(\u001b[49m\u001b[43mkey\u001b[49m\u001b[43m,\u001b[49m\u001b[43m \u001b[49m\u001b[43maxis\u001b[49m\u001b[38;5;241;43m=\u001b[39;49m\u001b[38;5;241;43m1\u001b[39;49m\u001b[43m)\u001b[49m[\u001b[38;5;241m1\u001b[39m]\n\u001b[0;32m   3466\u001b[0m \u001b[38;5;66;03m# take() does not accept boolean indexers\u001b[39;00m\n\u001b[0;32m   3467\u001b[0m \u001b[38;5;28;01mif\u001b[39;00m \u001b[38;5;28mgetattr\u001b[39m(indexer, \u001b[38;5;124m\"\u001b[39m\u001b[38;5;124mdtype\u001b[39m\u001b[38;5;124m\"\u001b[39m, \u001b[38;5;28;01mNone\u001b[39;00m) \u001b[38;5;241m==\u001b[39m \u001b[38;5;28mbool\u001b[39m:\n",
      "File \u001b[1;32mc:\\Users\\couch\\miniforge3\\envs\\dsc80\\lib\\site-packages\\pandas\\core\\indexing.py:1314\u001b[0m, in \u001b[0;36m_LocIndexer._get_listlike_indexer\u001b[1;34m(self, key, axis)\u001b[0m\n\u001b[0;32m   1311\u001b[0m \u001b[38;5;28;01melse\u001b[39;00m:\n\u001b[0;32m   1312\u001b[0m     keyarr, indexer, new_indexer \u001b[38;5;241m=\u001b[39m ax\u001b[38;5;241m.\u001b[39m_reindex_non_unique(keyarr)\n\u001b[1;32m-> 1314\u001b[0m \u001b[38;5;28;43mself\u001b[39;49m\u001b[38;5;241;43m.\u001b[39;49m\u001b[43m_validate_read_indexer\u001b[49m\u001b[43m(\u001b[49m\u001b[43mkeyarr\u001b[49m\u001b[43m,\u001b[49m\u001b[43m \u001b[49m\u001b[43mindexer\u001b[49m\u001b[43m,\u001b[49m\u001b[43m \u001b[49m\u001b[43maxis\u001b[49m\u001b[43m)\u001b[49m\n\u001b[0;32m   1316\u001b[0m \u001b[38;5;28;01mif\u001b[39;00m needs_i8_conversion(ax\u001b[38;5;241m.\u001b[39mdtype) \u001b[38;5;129;01mor\u001b[39;00m \u001b[38;5;28misinstance\u001b[39m(\n\u001b[0;32m   1317\u001b[0m     ax, (IntervalIndex, CategoricalIndex)\n\u001b[0;32m   1318\u001b[0m ):\n\u001b[0;32m   1319\u001b[0m     \u001b[38;5;66;03m# For CategoricalIndex take instead of reindex to preserve dtype.\u001b[39;00m\n\u001b[0;32m   1320\u001b[0m     \u001b[38;5;66;03m#  For IntervalIndex this is to map integers to the Intervals they match to.\u001b[39;00m\n\u001b[0;32m   1321\u001b[0m     keyarr \u001b[38;5;241m=\u001b[39m ax\u001b[38;5;241m.\u001b[39mtake(indexer)\n",
      "File \u001b[1;32mc:\\Users\\couch\\miniforge3\\envs\\dsc80\\lib\\site-packages\\pandas\\core\\indexing.py:1377\u001b[0m, in \u001b[0;36m_LocIndexer._validate_read_indexer\u001b[1;34m(self, key, indexer, axis)\u001b[0m\n\u001b[0;32m   1374\u001b[0m     \u001b[38;5;28;01mraise\u001b[39;00m \u001b[38;5;167;01mKeyError\u001b[39;00m(\u001b[38;5;124mf\u001b[39m\u001b[38;5;124m\"\u001b[39m\u001b[38;5;124mNone of [\u001b[39m\u001b[38;5;132;01m{\u001b[39;00mkey\u001b[38;5;132;01m}\u001b[39;00m\u001b[38;5;124m] are in the [\u001b[39m\u001b[38;5;132;01m{\u001b[39;00maxis_name\u001b[38;5;132;01m}\u001b[39;00m\u001b[38;5;124m]\u001b[39m\u001b[38;5;124m\"\u001b[39m)\n\u001b[0;32m   1376\u001b[0m not_found \u001b[38;5;241m=\u001b[39m \u001b[38;5;28mlist\u001b[39m(ensure_index(key)[missing_mask\u001b[38;5;241m.\u001b[39mnonzero()[\u001b[38;5;241m0\u001b[39m]]\u001b[38;5;241m.\u001b[39munique())\n\u001b[1;32m-> 1377\u001b[0m \u001b[38;5;28;01mraise\u001b[39;00m \u001b[38;5;167;01mKeyError\u001b[39;00m(\u001b[38;5;124mf\u001b[39m\u001b[38;5;124m\"\u001b[39m\u001b[38;5;132;01m{\u001b[39;00mnot_found\u001b[38;5;132;01m}\u001b[39;00m\u001b[38;5;124m not in index\u001b[39m\u001b[38;5;124m\"\u001b[39m)\n",
      "\u001b[1;31mKeyError\u001b[0m: \"['isand'] not in index\""
     ]
    }
   ],
   "source": [
    "(penguins\n",
    " .sort_values('body_mass_g', ascending=False)\n",
    " .groupby('sex')\n",
    " .first()\n",
    " [['species', 'isand', 'body_mass_g']]\n",
    " )"
   ]
  },
  {
   "cell_type": "markdown",
   "id": "bd3d1b61",
   "metadata": {
    "slideshow": {
     "slide_type": "slide"
    }
   },
   "source": [
    "### Column selection and performance implications"
   ]
  },
  {
   "cell_type": "markdown",
   "id": "f07d4949",
   "metadata": {
    "slideshow": {
     "slide_type": "fragment"
    }
   },
   "source": [
    "- By default, the aggregator will be applied to **all** columns that it can be applied to.\n",
    "    - `max` and `min` are defined on strings, while `median` and `mean` are not."
   ]
  },
  {
   "cell_type": "markdown",
   "id": "94c613db",
   "metadata": {
    "slideshow": {
     "slide_type": "fragment"
    }
   },
   "source": [
    "- If we only care about one column, we can select that column before aggregating **to save time**.\n",
    "    - `DataFrameGroupBy` objects support `[]` notation, just like `DataFrame`s."
   ]
  },
  {
   "cell_type": "code",
   "execution_count": 42,
   "id": "1847d896",
   "metadata": {
    "slideshow": {
     "slide_type": "fragment"
    }
   },
   "outputs": [
    {
     "data": {
      "text/html": [
       "<div>\n",
       "<style scoped>\n",
       "    .dataframe tbody tr th:only-of-type {\n",
       "        vertical-align: middle;\n",
       "    }\n",
       "\n",
       "    .dataframe tbody tr th {\n",
       "        vertical-align: top;\n",
       "    }\n",
       "\n",
       "    .dataframe thead th {\n",
       "        text-align: right;\n",
       "    }\n",
       "</style>\n",
       "<table border=\"1\" class=\"dataframe\">\n",
       "  <thead>\n",
       "    <tr style=\"text-align: right;\">\n",
       "      <th></th>\n",
       "      <th>bill_length_mm</th>\n",
       "      <th>bill_depth_mm</th>\n",
       "      <th>flipper_length_mm</th>\n",
       "      <th>body_mass_g</th>\n",
       "    </tr>\n",
       "    <tr>\n",
       "      <th>species</th>\n",
       "      <th></th>\n",
       "      <th></th>\n",
       "      <th></th>\n",
       "      <th></th>\n",
       "    </tr>\n",
       "  </thead>\n",
       "  <tbody>\n",
       "    <tr>\n",
       "      <th>Adelie</th>\n",
       "      <td>38.82</td>\n",
       "      <td>18.35</td>\n",
       "      <td>190.10</td>\n",
       "      <td>3706.16</td>\n",
       "    </tr>\n",
       "    <tr>\n",
       "      <th>Chinstrap</th>\n",
       "      <td>48.83</td>\n",
       "      <td>18.42</td>\n",
       "      <td>195.82</td>\n",
       "      <td>3733.09</td>\n",
       "    </tr>\n",
       "    <tr>\n",
       "      <th>Gentoo</th>\n",
       "      <td>47.57</td>\n",
       "      <td>15.00</td>\n",
       "      <td>217.24</td>\n",
       "      <td>5092.44</td>\n",
       "    </tr>\n",
       "  </tbody>\n",
       "</table>\n",
       "</div>"
      ],
      "text/plain": [
       "           bill_length_mm  bill_depth_mm  flipper_length_mm  body_mass_g\n",
       "species                                                                 \n",
       "Adelie              38.82          18.35             190.10      3706.16\n",
       "Chinstrap           48.83          18.42             195.82      3733.09\n",
       "Gentoo              47.57          15.00             217.24      5092.44"
      ]
     },
     "execution_count": 42,
     "metadata": {},
     "output_type": "execute_result"
    }
   ],
   "source": [
    "# Back to the big penguins dataset!\n",
    "penguins.groupby('species').mean()"
   ]
  },
  {
   "cell_type": "code",
   "execution_count": 43,
   "id": "dc7face1",
   "metadata": {},
   "outputs": [
    {
     "data": {
      "text/plain": [
       "species\n",
       "Adelie       38.82\n",
       "Chinstrap    48.83\n",
       "Gentoo       47.57\n",
       "Name: bill_length_mm, dtype: float64"
      ]
     },
     "execution_count": 43,
     "metadata": {},
     "output_type": "execute_result"
    }
   ],
   "source": [
    "# Works, but involves wasted effort since the other columns had to be aggregated for no reason.\n",
    "penguins.groupby('species').mean()['bill_length_mm']"
   ]
  },
  {
   "cell_type": "code",
   "execution_count": 44,
   "id": "5f1b1394",
   "metadata": {},
   "outputs": [
    {
     "data": {
      "text/plain": [
       "<pandas.core.groupby.generic.SeriesGroupBy object at 0x000002BA96394190>"
      ]
     },
     "execution_count": 44,
     "metadata": {},
     "output_type": "execute_result"
    }
   ],
   "source": [
    "# This is a SeriesGroupBy object!\n",
    "penguins.groupby('species')['bill_length_mm']"
   ]
  },
  {
   "cell_type": "code",
   "execution_count": 45,
   "id": "75185169",
   "metadata": {},
   "outputs": [
    {
     "data": {
      "text/plain": [
       "species\n",
       "Adelie       38.82\n",
       "Chinstrap    48.83\n",
       "Gentoo       47.57\n",
       "Name: bill_length_mm, dtype: float64"
      ]
     },
     "execution_count": 45,
     "metadata": {},
     "output_type": "execute_result"
    }
   ],
   "source": [
    "# Saves time!\n",
    "penguins.groupby('species')['bill_length_mm'].mean()"
   ]
  },
  {
   "cell_type": "markdown",
   "id": "632f5ff4",
   "metadata": {
    "slideshow": {
     "slide_type": "slide"
    }
   },
   "source": [
    "To demonstrate that the former is slower than the latter, we can use `%%timeit`. For reference, we'll also include our earlier `for`-loop-based solution."
   ]
  },
  {
   "cell_type": "code",
   "execution_count": 46,
   "id": "dc92adda",
   "metadata": {},
   "outputs": [
    {
     "name": "stdout",
     "output_type": "stream",
     "text": [
      "817 µs ± 61.1 µs per loop (mean ± std. dev. of 7 runs, 1,000 loops each)\n"
     ]
    }
   ],
   "source": [
    "%%timeit\n",
    "penguins.groupby('species').mean()['bill_length_mm']"
   ]
  },
  {
   "cell_type": "code",
   "execution_count": 47,
   "id": "2bb5cc3e",
   "metadata": {},
   "outputs": [
    {
     "name": "stdout",
     "output_type": "stream",
     "text": [
      "275 µs ± 6.28 µs per loop (mean ± std. dev. of 7 runs, 1,000 loops each)\n"
     ]
    }
   ],
   "source": [
    "%%timeit\n",
    "penguins.groupby('species')['bill_length_mm'].mean()"
   ]
  },
  {
   "cell_type": "code",
   "execution_count": 48,
   "id": "fc3f9090",
   "metadata": {},
   "outputs": [
    {
     "name": "stdout",
     "output_type": "stream",
     "text": [
      "1.99 ms ± 63.1 µs per loop (mean ± std. dev. of 7 runs, 100 loops each)\n"
     ]
    }
   ],
   "source": [
    "%%timeit\n",
    "species_map = pd.Series([], dtype=float)\n",
    "\n",
    "for species in penguins['species'].unique():\n",
    "    species_only = penguins.loc[penguins['species'] == species]\n",
    "    species_map.loc[species] = species_only['body_mass_g'].mean()\n",
    "    \n",
    "species_map"
   ]
  },
  {
   "cell_type": "markdown",
   "id": "d2a190d3",
   "metadata": {
    "slideshow": {
     "slide_type": "slide"
    }
   },
   "source": [
    "### Takeaways\n",
    "\n",
    "- It's important to understand _what_ each piece of your code evaluates to – in the first two timed examples, the code is almost identical, but the performance is quite different.\n",
    "\n",
    "    ```py\n",
    "    # Slower\n",
    "    penguins.groupby('species').mean()['bill_length_mm']\n",
    "\n",
    "    # Faster\n",
    "    penguins.groupby('species')['bill_length_mm'].mean()\n",
    "    ```\n",
    "\n",
    "- The `groupby` method is much quicker than `for`-looping over the DataFrame in Python. It can often produce results using just a **single, fast pass** over the data, updating the sum, mean, count, min, or other aggregate for each group along the way."
   ]
  },
  {
   "cell_type": "markdown",
   "id": "cc94fa49",
   "metadata": {
    "slideshow": {
     "slide_type": "slide"
    }
   },
   "source": [
    "### Beyond default aggregation methods\n",
    "\n",
    "- There are many built-in aggregation methods.\n",
    "- What if you want to apply different aggregation methods to different columns?\n",
    "- What if the aggregation method you want to use doesn't already exist in `pandas`?"
   ]
  },
  {
   "cell_type": "markdown",
   "id": "d50e51cf",
   "metadata": {
    "slideshow": {
     "slide_type": "slide"
    }
   },
   "source": [
    "### The `aggregate` method\n",
    "\n",
    "- The `DataFrameGroupBy` object has a general `aggregate` method, which aggregates using one or more operations.\n",
    "    - Remember, aggregation is the act of combining many values into a single value.\n",
    "- There are many ways of using `aggregate`; refer to [the documentation](https://pandas.pydata.org/pandas-docs/stable/reference/api/pandas.core.groupby.DataFrameGroupBy.aggregate.html) for a comprehensive list.\n",
    "- Example arguments:\n",
    "    - A single function.\n",
    "    - A list of functions.\n",
    "    - A dictionary mapping column names to functions.\n",
    "- Per [the documentation](https://pandas.pydata.org/pandas-docs/stable/reference/api/pandas.DataFrame.agg.html), `agg` is an alias for `aggregate`."
   ]
  },
  {
   "cell_type": "markdown",
   "id": "dc402b8b",
   "metadata": {
    "slideshow": {
     "slide_type": "slide"
    }
   },
   "source": [
    "### Example\n",
    "\n",
    "How many penguins are there of each `'species'`, and what is the mean `'body_mass_g'` of each `'species'`?"
   ]
  },
  {
   "cell_type": "code",
   "execution_count": 49,
   "id": "8f425d5e",
   "metadata": {},
   "outputs": [
    {
     "data": {
      "text/html": [
       "<div>\n",
       "<style scoped>\n",
       "    .dataframe tbody tr th:only-of-type {\n",
       "        vertical-align: middle;\n",
       "    }\n",
       "\n",
       "    .dataframe tbody tr th {\n",
       "        vertical-align: top;\n",
       "    }\n",
       "\n",
       "    .dataframe thead th {\n",
       "        text-align: right;\n",
       "    }\n",
       "</style>\n",
       "<table border=\"1\" class=\"dataframe\">\n",
       "  <thead>\n",
       "    <tr style=\"text-align: right;\">\n",
       "      <th></th>\n",
       "      <th>count</th>\n",
       "      <th>mean</th>\n",
       "    </tr>\n",
       "    <tr>\n",
       "      <th>species</th>\n",
       "      <th></th>\n",
       "      <th></th>\n",
       "    </tr>\n",
       "  </thead>\n",
       "  <tbody>\n",
       "    <tr>\n",
       "      <th>Adelie</th>\n",
       "      <td>146</td>\n",
       "      <td>3706.16</td>\n",
       "    </tr>\n",
       "    <tr>\n",
       "      <th>Chinstrap</th>\n",
       "      <td>68</td>\n",
       "      <td>3733.09</td>\n",
       "    </tr>\n",
       "    <tr>\n",
       "      <th>Gentoo</th>\n",
       "      <td>119</td>\n",
       "      <td>5092.44</td>\n",
       "    </tr>\n",
       "  </tbody>\n",
       "</table>\n",
       "</div>"
      ],
      "text/plain": [
       "           count     mean\n",
       "species                  \n",
       "Adelie       146  3706.16\n",
       "Chinstrap     68  3733.09\n",
       "Gentoo       119  5092.44"
      ]
     },
     "execution_count": 49,
     "metadata": {},
     "output_type": "execute_result"
    }
   ],
   "source": [
    "(penguins\n",
    " .groupby('species')\n",
    " ['body_mass_g']\n",
    " .aggregate(['count', 'mean'])\n",
    ")"
   ]
  },
  {
   "cell_type": "markdown",
   "id": "9bc3326a",
   "metadata": {},
   "source": [
    "Note what happens when we don't select a column before aggregating."
   ]
  },
  {
   "cell_type": "code",
   "execution_count": 50,
   "id": "153a1977",
   "metadata": {},
   "outputs": [
    {
     "data": {
      "text/html": [
       "<div>\n",
       "<style scoped>\n",
       "    .dataframe tbody tr th:only-of-type {\n",
       "        vertical-align: middle;\n",
       "    }\n",
       "\n",
       "    .dataframe tbody tr th {\n",
       "        vertical-align: top;\n",
       "    }\n",
       "\n",
       "    .dataframe thead tr th {\n",
       "        text-align: left;\n",
       "    }\n",
       "\n",
       "    .dataframe thead tr:last-of-type th {\n",
       "        text-align: right;\n",
       "    }\n",
       "</style>\n",
       "<table border=\"1\" class=\"dataframe\">\n",
       "  <thead>\n",
       "    <tr>\n",
       "      <th></th>\n",
       "      <th colspan=\"2\" halign=\"left\">bill_length_mm</th>\n",
       "      <th colspan=\"2\" halign=\"left\">bill_depth_mm</th>\n",
       "      <th colspan=\"2\" halign=\"left\">flipper_length_mm</th>\n",
       "      <th colspan=\"2\" halign=\"left\">body_mass_g</th>\n",
       "    </tr>\n",
       "    <tr>\n",
       "      <th></th>\n",
       "      <th>count</th>\n",
       "      <th>mean</th>\n",
       "      <th>count</th>\n",
       "      <th>mean</th>\n",
       "      <th>count</th>\n",
       "      <th>mean</th>\n",
       "      <th>count</th>\n",
       "      <th>mean</th>\n",
       "    </tr>\n",
       "    <tr>\n",
       "      <th>species</th>\n",
       "      <th></th>\n",
       "      <th></th>\n",
       "      <th></th>\n",
       "      <th></th>\n",
       "      <th></th>\n",
       "      <th></th>\n",
       "      <th></th>\n",
       "      <th></th>\n",
       "    </tr>\n",
       "  </thead>\n",
       "  <tbody>\n",
       "    <tr>\n",
       "      <th>Adelie</th>\n",
       "      <td>146</td>\n",
       "      <td>38.82</td>\n",
       "      <td>146</td>\n",
       "      <td>18.35</td>\n",
       "      <td>146</td>\n",
       "      <td>190.10</td>\n",
       "      <td>146</td>\n",
       "      <td>3706.16</td>\n",
       "    </tr>\n",
       "    <tr>\n",
       "      <th>Chinstrap</th>\n",
       "      <td>68</td>\n",
       "      <td>48.83</td>\n",
       "      <td>68</td>\n",
       "      <td>18.42</td>\n",
       "      <td>68</td>\n",
       "      <td>195.82</td>\n",
       "      <td>68</td>\n",
       "      <td>3733.09</td>\n",
       "    </tr>\n",
       "    <tr>\n",
       "      <th>Gentoo</th>\n",
       "      <td>119</td>\n",
       "      <td>47.57</td>\n",
       "      <td>119</td>\n",
       "      <td>15.00</td>\n",
       "      <td>119</td>\n",
       "      <td>217.24</td>\n",
       "      <td>119</td>\n",
       "      <td>5092.44</td>\n",
       "    </tr>\n",
       "  </tbody>\n",
       "</table>\n",
       "</div>"
      ],
      "text/plain": [
       "          bill_length_mm        bill_depth_mm        flipper_length_mm  \\\n",
       "                   count   mean         count   mean             count   \n",
       "species                                                                  \n",
       "Adelie               146  38.82           146  18.35               146   \n",
       "Chinstrap             68  48.83            68  18.42                68   \n",
       "Gentoo               119  47.57           119  15.00               119   \n",
       "\n",
       "                  body_mass_g           \n",
       "             mean       count     mean  \n",
       "species                                 \n",
       "Adelie     190.10         146  3706.16  \n",
       "Chinstrap  195.82          68  3733.09  \n",
       "Gentoo     217.24         119  5092.44  "
      ]
     },
     "execution_count": 50,
     "metadata": {},
     "output_type": "execute_result"
    }
   ],
   "source": [
    "(penguins\n",
    " .groupby('species')\n",
    " .aggregate(['count', 'mean'])\n",
    ")"
   ]
  },
  {
   "cell_type": "markdown",
   "id": "ec2fe848",
   "metadata": {
    "slideshow": {
     "slide_type": "slide"
    }
   },
   "source": [
    "### Example\n",
    "\n",
    "What is the maximum `'bill_length_mm'` of each `'species'`, and which `'island'`s is each `'species'` found on?"
   ]
  },
  {
   "cell_type": "code",
   "execution_count": 51,
   "id": "f274f133",
   "metadata": {},
   "outputs": [
    {
     "data": {
      "text/html": [
       "<div>\n",
       "<style scoped>\n",
       "    .dataframe tbody tr th:only-of-type {\n",
       "        vertical-align: middle;\n",
       "    }\n",
       "\n",
       "    .dataframe tbody tr th {\n",
       "        vertical-align: top;\n",
       "    }\n",
       "\n",
       "    .dataframe thead th {\n",
       "        text-align: right;\n",
       "    }\n",
       "</style>\n",
       "<table border=\"1\" class=\"dataframe\">\n",
       "  <thead>\n",
       "    <tr style=\"text-align: right;\">\n",
       "      <th></th>\n",
       "      <th>bill_length_mm</th>\n",
       "      <th>island</th>\n",
       "    </tr>\n",
       "    <tr>\n",
       "      <th>species</th>\n",
       "      <th></th>\n",
       "      <th></th>\n",
       "    </tr>\n",
       "  </thead>\n",
       "  <tbody>\n",
       "    <tr>\n",
       "      <th>Adelie</th>\n",
       "      <td>46.0</td>\n",
       "      <td>[Torgersen, Biscoe, Dream]</td>\n",
       "    </tr>\n",
       "    <tr>\n",
       "      <th>Chinstrap</th>\n",
       "      <td>58.0</td>\n",
       "      <td>[Dream]</td>\n",
       "    </tr>\n",
       "    <tr>\n",
       "      <th>Gentoo</th>\n",
       "      <td>59.6</td>\n",
       "      <td>[Biscoe]</td>\n",
       "    </tr>\n",
       "  </tbody>\n",
       "</table>\n",
       "</div>"
      ],
      "text/plain": [
       "           bill_length_mm                      island\n",
       "species                                              \n",
       "Adelie               46.0  [Torgersen, Biscoe, Dream]\n",
       "Chinstrap            58.0                     [Dream]\n",
       "Gentoo               59.6                    [Biscoe]"
      ]
     },
     "execution_count": 51,
     "metadata": {},
     "output_type": "execute_result"
    }
   ],
   "source": [
    "(penguins\n",
    " .groupby('species')\n",
    " .aggregate({'bill_length_mm': 'max', 'island': 'unique'})\n",
    ")"
   ]
  },
  {
   "cell_type": "markdown",
   "id": "ab8a7443",
   "metadata": {
    "slideshow": {
     "slide_type": "slide"
    }
   },
   "source": [
    "### Example\n",
    "\n",
    "What is the **interquartile range** of the `'body_mass_g'` of each `'species'`?"
   ]
  },
  {
   "cell_type": "code",
   "execution_count": 52,
   "id": "1a969c21",
   "metadata": {},
   "outputs": [
    {
     "data": {
      "text/plain": [
       "species\n",
       "Adelie       637.5\n",
       "Chinstrap    462.5\n",
       "Gentoo       800.0\n",
       "Name: body_mass_g, dtype: float64"
      ]
     },
     "execution_count": 52,
     "metadata": {},
     "output_type": "execute_result"
    }
   ],
   "source": [
    "# Here, the argument to agg is a function,\n",
    "# which takes in a pd.Series and returns a scalar.\n",
    "\n",
    "def iqr(s):\n",
    "    return np.percentile(s, 75) - np.percentile(s, 25)\n",
    "\n",
    "(penguins\n",
    " .groupby('species')\n",
    " ['body_mass_g']\n",
    " .agg(iqr)\n",
    ")"
   ]
  },
  {
   "cell_type": "markdown",
   "id": "cd8888af",
   "metadata": {
    "slideshow": {
     "slide_type": "slide"
    }
   },
   "source": [
    "<div class=\"alert alert-warning\">\n",
    "    <h3>Question 🤔 (Answer at <a href=\"https://q.dsc80.com\">q.dsc80.com)</h3>\n",
    "</div>\n",
    "    \n",
    "What questions do you have?"
   ]
  },
  {
   "cell_type": "markdown",
   "id": "d6c726b3",
   "metadata": {
    "slideshow": {
     "slide_type": "slide"
    }
   },
   "source": [
    "## Other `DataFrameGroupBy` methods"
   ]
  },
  {
   "cell_type": "markdown",
   "id": "478cae01",
   "metadata": {
    "slideshow": {
     "slide_type": "slide"
    }
   },
   "source": [
    "### Split-apply-combine, revisited\n",
    "\n",
    "When we introduced the split-apply-combine pattern, the \"apply\" step involved **aggregation** – our final DataFrame had one row for each group.\n",
    "\n",
    "<center><img src=\"imgs/image_0.png\" width=40%></center>\n",
    "\n",
    "Instead of aggregating during the apply step, we could instead perform a:\n",
    "\n",
    "- **Transformation**, in which we perform operations to every value within each group.\n",
    "\n",
    "- **Filtration**, in which we keep only the groups that satisfy some condition."
   ]
  },
  {
   "cell_type": "markdown",
   "id": "f57a9d0b",
   "metadata": {
    "slideshow": {
     "slide_type": "slide"
    }
   },
   "source": [
    "### Transformations\n",
    "\n",
    "Suppose we want to convert the `'body_mass_g'` column to to z-scores (i.e. standard units):\n",
    "\n",
    "$$z(x_i) = \\frac{x_i - \\text{mean of } x}{\\text{SD of } x}$$"
   ]
  },
  {
   "cell_type": "code",
   "execution_count": null,
   "id": "bc70cbb6",
   "metadata": {},
   "outputs": [],
   "source": [
    "def z_score(x):\n",
    "    return (x - x.mean()) / x.std(ddof=0)"
   ]
  },
  {
   "cell_type": "code",
   "execution_count": null,
   "id": "2d600ae5",
   "metadata": {},
   "outputs": [],
   "source": [
    "z_score(penguins['body_mass_g'])"
   ]
  },
  {
   "cell_type": "markdown",
   "id": "5a85c12f",
   "metadata": {
    "slideshow": {
     "slide_type": "slide"
    }
   },
   "source": [
    "### Transformations within groups\n",
    "\n",
    "- Now, what if we wanted the z-score within each group?\n",
    "\n",
    "- To do so, we can use the `transform` method on a `DataFrameGroupBy` object. The `transform` method takes in a function, which itself takes in a Series and returns a new Series.\n",
    "\n",
    "- A transformation produces a DataFrame or Series of the same size – it is **not** an aggregation!"
   ]
  },
  {
   "cell_type": "code",
   "execution_count": null,
   "id": "3872682f",
   "metadata": {},
   "outputs": [],
   "source": [
    "z_mass = (penguins\n",
    "          .groupby('species')\n",
    "          ['body_mass_g']\n",
    "          .transform(z_score))\n",
    "z_mass"
   ]
  },
  {
   "cell_type": "code",
   "execution_count": null,
   "id": "1bd014d2",
   "metadata": {},
   "outputs": [],
   "source": [
    "penguins.assign(z_mass=z_mass)"
   ]
  },
  {
   "cell_type": "code",
   "execution_count": null,
   "id": "499fd16f",
   "metadata": {
    "slideshow": {
     "slide_type": "slide"
    }
   },
   "outputs": [],
   "source": [
    "display_df(penguins.assign(z_mass=z_mass), rows=8)"
   ]
  },
  {
   "cell_type": "markdown",
   "id": "17ace31a",
   "metadata": {
    "slideshow": {
     "slide_type": "fragment"
    }
   },
   "source": [
    "Note that above, penguin 340 has a larger `'body_mass_g'` than penguin 0, but a lower `'z_mass'`.\n",
    "- Penguin 0 has an above average `'body_mass_g'` among `'Adelie'` penguins.\n",
    "- Penguin 340 has a below average `'body_mass_g'` among `'Gentoo'` penguins. Remember from earlier that the average `'body_mass_g'` of `'Gentoo'` penguins is much higher than for other species."
   ]
  },
  {
   "cell_type": "code",
   "execution_count": null,
   "id": "61b31afc",
   "metadata": {},
   "outputs": [],
   "source": [
    "penguins.groupby('species')['body_mass_g'].mean()"
   ]
  },
  {
   "cell_type": "markdown",
   "id": "2ff3bc14",
   "metadata": {
    "slideshow": {
     "slide_type": "slide"
    }
   },
   "source": [
    "### Filtering groups\n",
    "\n",
    "- To keep only the groups that satisfy a particular condition, use the `filter` method on a `DataFrameGroupBy` object.\n",
    "\n",
    "- The `filter` method takes in a function, which itself takes in a DataFrame/Series and return a single Boolean. The result is a new DataFrame/Series with only the groups for which the filter function returned `True`.\n",
    "\n",
    "For example, suppose we want only the `'species'` whose average `'bill_length_mm'` is above 39."
   ]
  },
  {
   "cell_type": "code",
   "execution_count": null,
   "id": "447eeb69",
   "metadata": {},
   "outputs": [],
   "source": [
    "(penguins\n",
    " .groupby('species')\n",
    " .filter(lambda df: df['bill_length_mm'].mean() > 39)\n",
    ")"
   ]
  },
  {
   "cell_type": "markdown",
   "id": "a372cbf2",
   "metadata": {
    "slideshow": {
     "slide_type": "fragment"
    }
   },
   "source": [
    "No more `'Adelie'`s!"
   ]
  },
  {
   "cell_type": "markdown",
   "id": "e3d21c74",
   "metadata": {
    "slideshow": {
     "slide_type": "slide"
    }
   },
   "source": [
    "Or, as another example, suppose we only want `'species'` with at least 100 penguins:"
   ]
  },
  {
   "cell_type": "code",
   "execution_count": null,
   "id": "a88db646",
   "metadata": {},
   "outputs": [],
   "source": [
    "(penguins\n",
    " .groupby('species')\n",
    " .filter(lambda df: df.shape[0] > 100)\n",
    ")"
   ]
  },
  {
   "cell_type": "markdown",
   "id": "4891c387",
   "metadata": {
    "slideshow": {
     "slide_type": "fragment"
    }
   },
   "source": [
    "No more `'Chinstrap'`s!"
   ]
  },
  {
   "cell_type": "markdown",
   "id": "5519947a",
   "metadata": {
    "slideshow": {
     "slide_type": "slide"
    }
   },
   "source": [
    "<div class=\"alert alert-warning\">\n",
    "    <h3>Question 🤔 (Answer at <a href=\"http://q.dsc80.com\">q.dsc80.com)</h3>\n",
    "\n",
    "Answer the following questions about grouping:\n",
    "\n",
    "- In `.agg(fn)`, what is the input to `fn`? What is the output of `fn`?\n",
    "- In `.transform(fn)`, what is the input to `fn`? What is the output of `fn`?\n",
    "- In `.filter(fn)`, what is the input to `fn`? What is the output of `fn`?\n",
    "</div>"
   ]
  },
  {
   "cell_type": "markdown",
   "id": "8e376960",
   "metadata": {
    "slideshow": {
     "slide_type": "slide"
    }
   },
   "source": [
    "### Grouping with multiple columns\n",
    "\n",
    "When we group with multiple columns, one group is created for **every unique combination** of elements in the specified columns."
   ]
  },
  {
   "cell_type": "code",
   "execution_count": null,
   "id": "a87917b8",
   "metadata": {},
   "outputs": [],
   "source": [
    "species_and_island = penguins.groupby(['species', 'island']).mean()\n",
    "species_and_island"
   ]
  },
  {
   "cell_type": "markdown",
   "id": "db94be88",
   "metadata": {
    "slideshow": {
     "slide_type": "slide"
    }
   },
   "source": [
    "### Grouping and indexes\n",
    "\n",
    "- The `groupby` method creates an index based on the specified columns.\n",
    "- When grouping by multiple columns, the resulting DataFrame has a `MultiIndex`.\n",
    "- Advice: When working with a `MultiIndex`, use `reset_index` or set `as_index=False` in `groupby`."
   ]
  },
  {
   "cell_type": "code",
   "execution_count": null,
   "id": "7ade0a51",
   "metadata": {},
   "outputs": [],
   "source": [
    "species_and_island"
   ]
  },
  {
   "cell_type": "code",
   "execution_count": null,
   "id": "771e57f5",
   "metadata": {},
   "outputs": [],
   "source": [
    "species_and_island['body_mass_g']"
   ]
  },
  {
   "cell_type": "code",
   "execution_count": null,
   "id": "bb58b9eb",
   "metadata": {},
   "outputs": [],
   "source": [
    "species_and_island.loc['Adelie']"
   ]
  },
  {
   "cell_type": "code",
   "execution_count": null,
   "id": "4bc553eb",
   "metadata": {},
   "outputs": [],
   "source": [
    "species_and_island.loc[('Adelie', 'Torgersen')]"
   ]
  },
  {
   "cell_type": "code",
   "execution_count": null,
   "id": "ca4039ed",
   "metadata": {},
   "outputs": [],
   "source": [
    "species_and_island.reset_index()"
   ]
  },
  {
   "cell_type": "code",
   "execution_count": null,
   "id": "8b35fbd1",
   "metadata": {},
   "outputs": [],
   "source": [
    "penguins.groupby(['species', 'island'], as_index=False).mean()"
   ]
  },
  {
   "cell_type": "markdown",
   "id": "3ffc9679",
   "metadata": {
    "slideshow": {
     "slide_type": "slide"
    }
   },
   "source": [
    "<div class=\"alert alert-warning\">\n",
    "    <h3>Question 🤔 (Answer at <a href=\"http://q.dsc80.com\">q.dsc80.com)</h3>\n",
    "        \n",
    "Find the most popular <code>'Male'</code> and <code>'Female'</code> baby <code>'Name'</code> for each <code>'Year'</code> in <code>baby</code>. <b>Exclude</b> <code>'Year'</code>s where there were fewer than 1 million births recorded.\n",
    "</div>"
   ]
  },
  {
   "cell_type": "code",
   "execution_count": null,
   "id": "73e04e4b",
   "metadata": {
    "scrolled": true
   },
   "outputs": [],
   "source": [
    "baby_path = Path('data') / 'baby.csv'\n",
    "baby = pd.read_csv(baby_path)\n",
    "baby"
   ]
  },
  {
   "cell_type": "code",
   "execution_count": null,
   "id": "dcabd1d5",
   "metadata": {},
   "outputs": [],
   "source": [
    "# Your code goes here."
   ]
  },
  {
   "cell_type": "markdown",
   "id": "c92b024d",
   "metadata": {
    "slideshow": {
     "slide_type": "slide"
    }
   },
   "source": [
    "## Pivot tables using the `pivot_table` method"
   ]
  },
  {
   "cell_type": "markdown",
   "id": "191b9073",
   "metadata": {
    "slideshow": {
     "slide_type": "slide"
    }
   },
   "source": [
    "### Pivot tables: an extension of grouping\n",
    "\n",
    "Pivot tables are a compact way to display tables for humans to read:\n",
    "\n",
    "<table border=\"1\" class=\"dataframe\">\n",
    "  <thead>\n",
    "    <tr style=\"text-align: right;\">\n",
    "      <th>Sex</th>\n",
    "      <th>F</th>\n",
    "      <th>M</th>\n",
    "    </tr>\n",
    "    <tr>\n",
    "      <th>Year</th>\n",
    "      <th></th>\n",
    "      <th></th>\n",
    "    </tr>\n",
    "  </thead>\n",
    "  <tbody>\n",
    "    <tr>\n",
    "      <th>2018</th>\n",
    "      <td>1698373</td>\n",
    "      <td>1813377</td>\n",
    "    </tr>\n",
    "    <tr>\n",
    "      <th>2019</th>\n",
    "      <td>1675139</td>\n",
    "      <td>1790682</td>\n",
    "    </tr>\n",
    "    <tr>\n",
    "      <th>2020</th>\n",
    "      <td>1612393</td>\n",
    "      <td>1721588</td>\n",
    "    </tr>\n",
    "    <tr>\n",
    "      <th>2021</th>\n",
    "      <td>1635800</td>\n",
    "      <td>1743913</td>\n",
    "    </tr>\n",
    "    <tr>\n",
    "      <th>2022</th>\n",
    "      <td>1628730</td>\n",
    "      <td>1733166</td>\n",
    "    </tr>\n",
    "  </tbody>\n",
    "</table>"
   ]
  },
  {
   "cell_type": "markdown",
   "id": "064305ac",
   "metadata": {
    "slideshow": {
     "slide_type": "fragment"
    }
   },
   "source": [
    "- Notice that each value in the table is a sum over the counts, split by year and sex.\n",
    "- **You can think of pivot tables as grouping using two columns, then \"pivoting\" one of the group labels into columns.**"
   ]
  },
  {
   "cell_type": "markdown",
   "id": "3b6c0de2",
   "metadata": {
    "slideshow": {
     "slide_type": "slide"
    }
   },
   "source": [
    "### `pivot_table`\n",
    "\n",
    "The `pivot_table` DataFrame method aggregates a DataFrame using two columns. To use it:\n",
    "\n",
    "```py\n",
    "df.pivot_table(index=index_col,\n",
    "               columns=columns_col,\n",
    "               values=values_col,\n",
    "               aggfunc=func)\n",
    "```\n",
    "The resulting DataFrame will have:\n",
    "- One row for every unique value in `index_col`.\n",
    "- One column for every unique value in `columns_col`.\n",
    "- Values determined by applying `func` on values in `values_col`."
   ]
  },
  {
   "cell_type": "code",
   "execution_count": null,
   "id": "1d891326",
   "metadata": {},
   "outputs": [],
   "source": [
    "last_5_years = baby.query('Year >= 2018')\n",
    "last_5_years"
   ]
  },
  {
   "cell_type": "code",
   "execution_count": null,
   "id": "fcb474ed",
   "metadata": {
    "slideshow": {
     "slide_type": ""
    }
   },
   "outputs": [],
   "source": [
    "last_5_years.pivot_table(\n",
    "    index='Year',\n",
    "    columns='Sex',\n",
    "    values='Count',\n",
    "    aggfunc='sum',\n",
    ")"
   ]
  },
  {
   "cell_type": "code",
   "execution_count": null,
   "id": "8e77809b",
   "metadata": {},
   "outputs": [],
   "source": [
    "# Look at the similarity to the snippet above!\n",
    "(last_5_years\n",
    " .groupby(['Year', 'Sex'])\n",
    " [['Count']]\n",
    " .sum()\n",
    ")"
   ]
  },
  {
   "cell_type": "markdown",
   "id": "5668bc16",
   "metadata": {
    "slideshow": {
     "slide_type": "slide"
    }
   },
   "source": [
    "### Example\n",
    "\n",
    "Find the number of penguins per `'island'` and `'species'`."
   ]
  },
  {
   "cell_type": "code",
   "execution_count": null,
   "id": "c1aa031f",
   "metadata": {},
   "outputs": [],
   "source": [
    "penguins"
   ]
  },
  {
   "cell_type": "code",
   "execution_count": null,
   "id": "099f7869",
   "metadata": {},
   "outputs": [],
   "source": [
    "penguins.pivot_table(\n",
    "    index='species', \n",
    "    columns='island', \n",
    "    values='bill_length_mm', # Choice of column here doesn't actually matter!\n",
    "    aggfunc='count',\n",
    ")"
   ]
  },
  {
   "cell_type": "markdown",
   "id": "b3f69a47",
   "metadata": {
    "slideshow": {
     "slide_type": "fragment"
    }
   },
   "source": [
    "Note that there is a `NaN` at the intersection of `'Biscoe'` and `'Chinstrap'`, because there were no Chinstrap penguins on Biscoe Island.\n",
    "\n",
    "We can either use the `fillna` method afterwards or the `fill_value` argument to fill in `NaN`s."
   ]
  },
  {
   "cell_type": "code",
   "execution_count": null,
   "id": "0867a074",
   "metadata": {},
   "outputs": [],
   "source": [
    "penguins.pivot_table(\n",
    "    index='species', \n",
    "    columns='island', \n",
    "    values='bill_length_mm', \n",
    "    aggfunc='count',\n",
    "    fill_value=0,\n",
    ")"
   ]
  },
  {
   "cell_type": "markdown",
   "id": "5795da71",
   "metadata": {
    "slideshow": {
     "slide_type": "slide"
    }
   },
   "source": [
    "### Granularity, revisited\n",
    "\n",
    "Take another look at the pivot table from the previous slide. Each row of the original `penguins` DataFrame represented a single penguin, and each column represented features of the penguins.\n",
    "\n",
    "What is the granularity of the DataFrame below?"
   ]
  },
  {
   "cell_type": "code",
   "execution_count": null,
   "id": "665f8bb3",
   "metadata": {},
   "outputs": [],
   "source": [
    "penguins.pivot_table(\n",
    "    index='species', \n",
    "    columns='island', \n",
    "    values='bill_length_mm', \n",
    "    aggfunc='count',\n",
    "    fill_value=0,\n",
    ")"
   ]
  },
  {
   "cell_type": "markdown",
   "id": "8e56de78",
   "metadata": {
    "slideshow": {
     "slide_type": "slide"
    }
   },
   "source": [
    "### Reshaping\n",
    "\n",
    "- `pivot_table` reshapes DataFrames from \"long\" to \"wide\".\n",
    "- Other DataFrame reshaping methods:\n",
    "    - `melt`: Un-pivots a DataFrame. Very useful in data cleaning.\n",
    "    - `pivot`: Like `pivot_table`, but doesn't do aggregation.\n",
    "    - `stack`: Pivots multi-level columns to multi-indices.\n",
    "    - `unstack`: Pivots multi-indices to columns.\n",
    "    - Google and the documentation are your friends!"
   ]
  },
  {
   "cell_type": "markdown",
   "id": "5faca7fc",
   "metadata": {
    "slideshow": {
     "slide_type": "slide"
    }
   },
   "source": [
    "<div class=\"alert alert-warning\">\n",
    "    <h3>Question 🤔 (Answer at <a href=\"https://q.dsc80.com\">q.dsc80.com)</h3>\n",
    "</div>\n",
    "    \n",
    "What questions do you have?"
   ]
  },
  {
   "cell_type": "markdown",
   "id": "8508a69b",
   "metadata": {
    "slideshow": {
     "slide_type": "slide"
    }
   },
   "source": [
    "## Distributions"
   ]
  },
  {
   "cell_type": "markdown",
   "id": "244a4c6f",
   "metadata": {
    "slideshow": {
     "slide_type": "slide"
    }
   },
   "source": [
    "### Joint distribution\n",
    "\n",
    "When using `aggfunc='count'`, a pivot table describes the **joint distribution** of two categorical variables. This is also called a **contingency table**."
   ]
  },
  {
   "cell_type": "code",
   "execution_count": null,
   "id": "657cb701",
   "metadata": {},
   "outputs": [],
   "source": [
    "counts = penguins.pivot_table(\n",
    "    index='species', \n",
    "    columns='sex', \n",
    "    values='body_mass_g', \n",
    "    aggfunc='count', \n",
    "    fill_value=0\n",
    ")\n",
    "counts"
   ]
  },
  {
   "cell_type": "markdown",
   "id": "125b3d37",
   "metadata": {
    "slideshow": {
     "slide_type": "fragment"
    }
   },
   "source": [
    "We can normalize the DataFrame by dividing by the total number of penguins. The resulting numbers can be interpreted as **probabilities** that a randomly selected penguin from the dataset belongs to a given combination of species and sex."
   ]
  },
  {
   "cell_type": "code",
   "execution_count": null,
   "id": "ef27fe23",
   "metadata": {},
   "outputs": [],
   "source": [
    "joint = counts / counts.sum().sum()\n",
    "joint"
   ]
  },
  {
   "cell_type": "markdown",
   "id": "6bf70932",
   "metadata": {
    "slideshow": {
     "slide_type": "slide"
    }
   },
   "source": [
    "### Marginal probabilities\n",
    "\n",
    "If we sum over one of the axes, we can compute **marginal probabilities**, i.e. unconditional probabilities."
   ]
  },
  {
   "cell_type": "code",
   "execution_count": null,
   "id": "3ae4e508",
   "metadata": {},
   "outputs": [],
   "source": [
    "joint"
   ]
  },
  {
   "cell_type": "code",
   "execution_count": null,
   "id": "8539e9a6",
   "metadata": {},
   "outputs": [],
   "source": [
    "# Recall, joint.sum(axis=0) sums across the rows, \n",
    "# which computes the sum of the **columns**.\n",
    "joint.sum(axis=0)"
   ]
  },
  {
   "cell_type": "code",
   "execution_count": null,
   "id": "5f5a59a1",
   "metadata": {},
   "outputs": [],
   "source": [
    "joint.sum(axis=1)"
   ]
  },
  {
   "cell_type": "markdown",
   "id": "3abcbba0",
   "metadata": {},
   "source": [
    "For instance, the second Series tells us that a randomly selected penguin has a 0.36 chance of being of species `'Gentoo'`."
   ]
  },
  {
   "cell_type": "markdown",
   "id": "1fb270de",
   "metadata": {
    "slideshow": {
     "slide_type": "slide"
    }
   },
   "source": [
    "### Conditional probabilities\n",
    "\n",
    "Using `counts`, how might we compute conditional probabilities like $$P(\\text{species } = \\text{\"Adelie\"} \\mid \\text{sex } = \\text{\"Female\"})?$$"
   ]
  },
  {
   "cell_type": "code",
   "execution_count": null,
   "id": "3ba45ff3",
   "metadata": {},
   "outputs": [],
   "source": [
    "counts"
   ]
  },
  {
   "cell_type": "markdown",
   "id": "43ad126b",
   "metadata": {
    "slideshow": {
     "slide_type": "fragment"
    }
   },
   "source": [
    "$$\\begin{align*}\n",
    "P(\\text{species} = c \\mid \\text{sex} = x) &= \\frac{\\# \\: (\\text{species} = c \\text{ and } \\text{sex} = x)}{\\# \\: (\\text{sex} = x)}\n",
    "\\end{align*}$$\n",
    "\n",
    "<details>\n",
    "    <summary>➡️ Click <b>here</b> to see more of a derivation.</summary>\n",
    "$$\\begin{align*}\n",
    "P(\\text{species} = c \\mid \\text{sex} = x) &= \\frac{P(\\text{species} = c \\text{ and } \\text{sex} = x)}{P(\\text{sex = }x)} \\\\\n",
    "&= \\frac{\\frac{\\# \\: (\\text{species } = \\: c \\text{ and } \\text{sex } = \\: x)}{N}}{\\frac{\\# \\: (\\text{sex } = \\: x)}{N}} \\\\\n",
    "&= \\frac{\\# \\: (\\text{species} = c \\text{ and } \\text{sex} = x)}{\\# \\: (\\text{sex} = x)}\n",
    "\\end{align*}$$\n",
    "</details>"
   ]
  },
  {
   "cell_type": "markdown",
   "id": "ff143cc6",
   "metadata": {
    "slideshow": {
     "slide_type": "fragment"
    }
   },
   "source": [
    "**Answer**: To find conditional probabilities of **`'species'` given `'sex'`**, divide by **column sums**. To find conditional probabilities of **`'sex'` given `'species'`**, divide by **row sums**."
   ]
  },
  {
   "cell_type": "markdown",
   "id": "d373b71c",
   "metadata": {
    "slideshow": {
     "slide_type": "slide"
    }
   },
   "source": [
    "### Conditional probabilities\n",
    "\n",
    "To find conditional probabilities of **`'species'` given `'sex'`**, divide by **column sums**. To find conditional probabilities of **`'sex'` given `'species'`**, divide by **row sums**."
   ]
  },
  {
   "cell_type": "code",
   "execution_count": null,
   "id": "13c67c6c",
   "metadata": {},
   "outputs": [],
   "source": [
    "counts"
   ]
  },
  {
   "cell_type": "code",
   "execution_count": null,
   "id": "7e995c56",
   "metadata": {},
   "outputs": [],
   "source": [
    "counts.sum(axis=0)"
   ]
  },
  {
   "cell_type": "markdown",
   "id": "08bae3f5",
   "metadata": {
    "slideshow": {
     "slide_type": "fragment"
    }
   },
   "source": [
    "The conditional distribution of **`'species'` given `'sex'`** is below. Note that in this new DataFrame, the `'Female'` and `'Male'` columns each sum to 1."
   ]
  },
  {
   "cell_type": "code",
   "execution_count": null,
   "id": "ac092c84",
   "metadata": {},
   "outputs": [],
   "source": [
    "counts / counts.sum(axis=0)"
   ]
  },
  {
   "cell_type": "markdown",
   "id": "82ff00a4",
   "metadata": {},
   "source": [
    "For instance, the above DataFrame tells us that the probability that a randomly selected penguin is of `'species'` `'Adelie'` **given** that they are of `'sex'` `'Female'` is 0.442424."
   ]
  },
  {
   "cell_type": "markdown",
   "id": "1860aca1",
   "metadata": {
    "slideshow": {
     "slide_type": "slide"
    }
   },
   "source": [
    "<div class=\"alert alert-warning\">\n",
    "    <h3>Question 🤔 (Answer at <a href=\"http://q.dsc80.com\">q.dsc80.com)</h3>\n",
    "        \n",
    "Find the conditional distribution of <code>'sex'</code> given <code>'species'</code>.<br>\n",
    "        \n",
    "<b><i>Hint</i></b>: Use <code>.T</code>.\n",
    "</div>"
   ]
  },
  {
   "cell_type": "code",
   "execution_count": null,
   "id": "f96daece",
   "metadata": {},
   "outputs": [],
   "source": [
    "# Your code goes here."
   ]
  },
  {
   "cell_type": "markdown",
   "id": "30f5cf4d",
   "metadata": {
    "slideshow": {
     "slide_type": "slide"
    }
   },
   "source": [
    "## Summary, next time"
   ]
  },
  {
   "cell_type": "markdown",
   "id": "5b500565",
   "metadata": {
    "slideshow": {
     "slide_type": "slide"
    }
   },
   "source": [
    "### Summary\n",
    "\n",
    "- Grouping allows us to change the level of granularity in a DataFrame.\n",
    "- Grouping involves three steps – split, apply, and combine.\n",
    "    - Usually, what is applied is an aggregation, but it could be a transformation or filtration.\n",
    "- `pivot_table` aggregates data based on two categorical columns, and reshapes the result to be \"wide\" instead of \"long\"."
   ]
  },
  {
   "cell_type": "markdown",
   "id": "b9c3bd04",
   "metadata": {
    "slideshow": {
     "slide_type": "slide"
    }
   },
   "source": [
    "### Next time\n",
    "\n",
    "- Simpson's paradox.\n",
    "- Merging.\n",
    "    - Review [this diagram](https://dsc10.com/diagrams/#merging) from DSC 10!\n",
    "- The pitfalls of the `apply` method."
   ]
  }
 ],
 "metadata": {
  "kernelspec": {
   "display_name": "Python 3 (ipykernel)",
   "language": "python",
   "name": "python3"
  },
  "language_info": {
   "codemirror_mode": {
    "name": "ipython",
    "version": 3
   },
   "file_extension": ".py",
   "mimetype": "text/x-python",
   "name": "python",
   "nbconvert_exporter": "python",
   "pygments_lexer": "ipython3",
   "version": "3.8.19"
  },
  "livereveal": {
   "scroll": true
  },
  "rise": {
   "transition": "none"
  }
 },
 "nbformat": 4,
 "nbformat_minor": 5
}
